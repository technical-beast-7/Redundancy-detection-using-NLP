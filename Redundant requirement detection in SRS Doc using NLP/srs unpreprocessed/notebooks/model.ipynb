{
  "cells": [
    {
      "cell_type": "code",
      "execution_count": 1,
      "metadata": {
        "id": "PqUwKJR7nI_7"
      },
      "outputs": [],
      "source": [
        "import pandas as pd\n",
        "import re\n",
        "from nltk.stem import WordNetLemmatizer\n",
        "from nltk.corpus import stopwords\n",
        "from nltk.tokenize import word_tokenize\n",
        "from nltk.tag import pos_tag\n",
        "import nltk\n",
        "import os"
      ]
    },
    {
      "cell_type": "code",
      "execution_count": 2,
      "metadata": {
        "id": "dZC-3EcPDOtL"
      },
      "outputs": [],
      "source": [
        "from sklearn.feature_extraction.text import CountVectorizer, TfidfVectorizer\n",
        "from sklearn.cluster import KMeans, DBSCAN, AgglomerativeClustering\n",
        "from sklearn.metrics import silhouette_score, make_scorer\n",
        "from sklearn.model_selection import GridSearchCV"
      ]
    },
    {
      "cell_type": "code",
      "execution_count": 3,
      "metadata": {
        "colab": {
          "base_uri": "https://localhost:8080/"
        },
        "id": "tgypFtgPrkDO",
        "outputId": "ea53c141-3fa6-4fee-bf4a-b0c2e1856180"
      },
      "outputs": [
        {
          "name": "stderr",
          "output_type": "stream",
          "text": [
            "[nltk_data] Downloading package stopwords to\n",
            "[nltk_data]     C:\\Users\\kirta\\AppData\\Roaming\\nltk_data...\n",
            "[nltk_data]   Unzipping corpora\\stopwords.zip.\n",
            "[nltk_data] Downloading package punkt to\n",
            "[nltk_data]     C:\\Users\\kirta\\AppData\\Roaming\\nltk_data...\n",
            "[nltk_data]   Unzipping tokenizers\\punkt.zip.\n",
            "[nltk_data] Downloading package averaged_perceptron_tagger to\n",
            "[nltk_data]     C:\\Users\\kirta\\AppData\\Roaming\\nltk_data...\n",
            "[nltk_data]   Unzipping taggers\\averaged_perceptron_tagger.zip.\n",
            "[nltk_data] Downloading package wordnet to\n",
            "[nltk_data]     C:\\Users\\kirta\\AppData\\Roaming\\nltk_data...\n",
            "[nltk_data] Downloading package punkt_tab to\n",
            "[nltk_data]     C:\\Users\\kirta\\AppData\\Roaming\\nltk_data...\n",
            "[nltk_data]   Unzipping tokenizers\\punkt_tab.zip.\n"
          ]
        },
        {
          "data": {
            "text/plain": [
              "True"
            ]
          },
          "execution_count": 3,
          "metadata": {},
          "output_type": "execute_result"
        }
      ],
      "source": [
        "nltk.download('stopwords')\n",
        "nltk.download('punkt')\n",
        "nltk.download('averaged_perceptron_tagger')\n",
        "nltk.download('wordnet')\n",
        "nltk.download('punkt_tab')"
      ]
    },
    {
      "cell_type": "code",
      "execution_count": 4,
      "metadata": {
        "colab": {
          "base_uri": "https://localhost:8080/",
          "height": 316
        },
        "id": "6PD8uxc6rmdl",
        "outputId": "fd7b7b7d-5477-4cce-e324-43b0fa8cecde"
      },
      "outputs": [],
      "source": [
        "lemmatizer = WordNetLemmatizer()\n",
        "english_stopwords = set(stopwords.words('english'))"
      ]
    },
    {
      "cell_type": "code",
      "execution_count": 5,
      "metadata": {
        "id": "8bvN1jz7rw3I"
      },
      "outputs": [],
      "source": [
        "def process_requirement_text(text):\n",
        "    review = re.sub('[^a-zA-Z]', ' ', text)\n",
        "    review = review.lower().split()\n",
        "    review = [\n",
        "        lemmatizer.lemmatize(word) if not word.isdigit() else word\n",
        "        for word in review\n",
        "        if word not in english_stopwords\n",
        "    ]\n",
        "    return ' '.join(review)"
      ]
    },
    {
      "cell_type": "code",
      "execution_count": 21,
      "metadata": {
        "colab": {
          "base_uri": "https://localhost:8080/"
        },
        "id": "_4ErP78Rr1l_",
        "outputId": "a064da16-41eb-4acd-8370-3ea247da96f2"
      },
      "outputs": [
        {
          "name": "stdout",
          "output_type": "stream",
          "text": [
            "  class                                        requirement  \\\n",
            "0    PE  The system shall refresh the display every 60 ...   \n",
            "1    LF  The application shall match the color of the s...   \n",
            "2    US   If projected  the data must be readable.  On ...   \n",
            "3     A   The product shall be available during normal ...   \n",
            "4    US   If projected  the data must be understandable...   \n",
            "\n",
            "                                     RequirementText  \n",
            "0          system shall refresh display every second  \n",
            "1  application shall match color schema set forth...  \n",
            "2  projected data must readable x projection scre...  \n",
            "3  product shall available normal business hour l...  \n",
            "4  projected data must understandable x projectio...  \n"
          ]
        }
      ],
      "source": [
        "import pandas as pd\n",
        "\n",
        "def read_requirements_file(file_path):\n",
        "    data = []\n",
        "    with open(file_path, 'r') as file:\n",
        "        for line in file:\n",
        "            line = line.strip()\n",
        "            if not line:\n",
        "                continue\n",
        "            parts = line.split(':', 1)\n",
        "            if len(parts) == 2:\n",
        "                data.append(parts)\n",
        "            else:\n",
        "                print(f\"Skipping malformed line: {line}\")\n",
        "    return data\n",
        "\n",
        "data_nfr = read_requirements_file('datasets/nfr.txt')\n",
        "data_dup = read_requirements_file('datasets/nfr dup.txt')\n",
        "\n",
        "df_nfr = pd.DataFrame(data_nfr, columns=[\"class\", \"requirement\"])\n",
        "df_dup = pd.DataFrame(data_dup, columns=[\"class\", \"requirement\"])\n",
        "\n",
        "df = pd.concat([df_nfr, df_dup], ignore_index=True)\n",
        "\n",
        "df['RequirementText'] = df['requirement'].apply(process_requirement_text)\n",
        "\n",
        "print(df.head())"
      ]
    },
    {
      "cell_type": "code",
      "execution_count": 22,
      "metadata": {
        "colab": {
          "base_uri": "https://localhost:8080/",
          "height": 423
        },
        "id": "KO7PNc4XMKu6",
        "outputId": "832780e3-8da4-48c0-d4c2-5916e1f01b1a"
      },
      "outputs": [
        {
          "data": {
            "text/html": [
              "<div>\n",
              "<style scoped>\n",
              "    .dataframe tbody tr th:only-of-type {\n",
              "        vertical-align: middle;\n",
              "    }\n",
              "\n",
              "    .dataframe tbody tr th {\n",
              "        vertical-align: top;\n",
              "    }\n",
              "\n",
              "    .dataframe thead th {\n",
              "        text-align: right;\n",
              "    }\n",
              "</style>\n",
              "<table border=\"1\" class=\"dataframe\">\n",
              "  <thead>\n",
              "    <tr style=\"text-align: right;\">\n",
              "      <th></th>\n",
              "      <th>class</th>\n",
              "      <th>requirement</th>\n",
              "      <th>RequirementText</th>\n",
              "    </tr>\n",
              "  </thead>\n",
              "  <tbody>\n",
              "    <tr>\n",
              "      <th>0</th>\n",
              "      <td>PE</td>\n",
              "      <td>The system shall refresh the display every 60 ...</td>\n",
              "      <td>system shall refresh display every second</td>\n",
              "    </tr>\n",
              "    <tr>\n",
              "      <th>1</th>\n",
              "      <td>LF</td>\n",
              "      <td>The application shall match the color of the s...</td>\n",
              "      <td>application shall match color schema set forth...</td>\n",
              "    </tr>\n",
              "    <tr>\n",
              "      <th>2</th>\n",
              "      <td>US</td>\n",
              "      <td>If projected  the data must be readable.  On ...</td>\n",
              "      <td>projected data must readable x projection scre...</td>\n",
              "    </tr>\n",
              "    <tr>\n",
              "      <th>3</th>\n",
              "      <td>A</td>\n",
              "      <td>The product shall be available during normal ...</td>\n",
              "      <td>product shall available normal business hour l...</td>\n",
              "    </tr>\n",
              "    <tr>\n",
              "      <th>4</th>\n",
              "      <td>US</td>\n",
              "      <td>If projected  the data must be understandable...</td>\n",
              "      <td>projected data must understandable x projectio...</td>\n",
              "    </tr>\n",
              "    <tr>\n",
              "      <th>...</th>\n",
              "      <td>...</td>\n",
              "      <td>...</td>\n",
              "      <td>...</td>\n",
              "    </tr>\n",
              "    <tr>\n",
              "      <th>669</th>\n",
              "      <td>O</td>\n",
              "      <td>The system will integrate with multiple datab...</td>\n",
              "      <td>system integrate multiple database management ...</td>\n",
              "    </tr>\n",
              "    <tr>\n",
              "      <th>670</th>\n",
              "      <td>O</td>\n",
              "      <td>The system must be installable in any operati...</td>\n",
              "      <td>system must installable operating environment ...</td>\n",
              "    </tr>\n",
              "    <tr>\n",
              "      <th>671</th>\n",
              "      <td>SE</td>\n",
              "      <td>The system will ensure that only company empl...</td>\n",
              "      <td>system ensure company employee approved extern...</td>\n",
              "    </tr>\n",
              "    <tr>\n",
              "      <th>672</th>\n",
              "      <td>SE</td>\n",
              "      <td>Only managers will be able to perform search ...</td>\n",
              "      <td>manager able perform search query reservation ...</td>\n",
              "    </tr>\n",
              "    <tr>\n",
              "      <th>673</th>\n",
              "      <td>SE</td>\n",
              "      <td>The system will ensure that the databaseâ€™s ...</td>\n",
              "      <td>system ensure database data corresponds exactl...</td>\n",
              "    </tr>\n",
              "  </tbody>\n",
              "</table>\n",
              "<p>674 rows × 3 columns</p>\n",
              "</div>"
            ],
            "text/plain": [
              "    class                                        requirement  \\\n",
              "0      PE  The system shall refresh the display every 60 ...   \n",
              "1      LF  The application shall match the color of the s...   \n",
              "2      US   If projected  the data must be readable.  On ...   \n",
              "3       A   The product shall be available during normal ...   \n",
              "4      US   If projected  the data must be understandable...   \n",
              "..    ...                                                ...   \n",
              "669     O   The system will integrate with multiple datab...   \n",
              "670     O   The system must be installable in any operati...   \n",
              "671    SE   The system will ensure that only company empl...   \n",
              "672    SE   Only managers will be able to perform search ...   \n",
              "673    SE   The system will ensure that the databaseâ€™s ...   \n",
              "\n",
              "                                       RequirementText  \n",
              "0            system shall refresh display every second  \n",
              "1    application shall match color schema set forth...  \n",
              "2    projected data must readable x projection scre...  \n",
              "3    product shall available normal business hour l...  \n",
              "4    projected data must understandable x projectio...  \n",
              "..                                                 ...  \n",
              "669  system integrate multiple database management ...  \n",
              "670  system must installable operating environment ...  \n",
              "671  system ensure company employee approved extern...  \n",
              "672  manager able perform search query reservation ...  \n",
              "673  system ensure database data corresponds exactl...  \n",
              "\n",
              "[674 rows x 3 columns]"
            ]
          },
          "execution_count": 22,
          "metadata": {},
          "output_type": "execute_result"
        }
      ],
      "source": [
        "df"
      ]
    },
    {
      "cell_type": "code",
      "execution_count": 23,
      "metadata": {
        "colab": {
          "base_uri": "https://localhost:8080/"
        },
        "id": "T0gp0tM7MRiS",
        "outputId": "68a05250-d2f2-43e5-af15-c578b4fa7a3a"
      },
      "outputs": [
        {
          "name": "stdout",
          "output_type": "stream",
          "text": [
            "{'F': 238, 'A': 25, 'L': 16, 'LF': 40, 'MN': 21, 'O': 82, 'PE': 61, 'SC': 27, 'SE': 67, 'US': 83, 'FT': 11, 'PO': 3}\n"
          ]
        }
      ],
      "source": [
        "classes = ['F', 'A', 'L', 'LF', 'MN', 'O', 'PE', 'SC', 'SE', 'US', 'FT', 'PO']\n",
        "\n",
        "def get_counts(df, class_col_name):\n",
        "    return df[class_col_name].value_counts().reindex(classes, fill_value=0).to_dict()\n",
        "\n",
        "nfr_counts = get_counts(df, 'class')\n",
        "\n",
        "print(nfr_counts)\n",
        "\n",
        "output_dir = '/content/sample_data'\n",
        "os.makedirs(output_dir, exist_ok=True)\n",
        "\n",
        "df.to_csv(os.path.join(output_dir, 'dataset_normalized.csv'), sep=',', header=True, index=False, quotechar='\"', doublequote=True)"
      ]
    },
    {
      "cell_type": "code",
      "execution_count": 24,
      "metadata": {
        "id": "y9TclGkZMse_"
      },
      "outputs": [],
      "source": [
        "df=pd.read_csv('/content/sample_data/dataset_normalized.csv')"
      ]
    },
    {
      "cell_type": "code",
      "execution_count": 25,
      "metadata": {
        "colab": {
          "base_uri": "https://localhost:8080/",
          "height": 577
        },
        "id": "kDZ1WsJiM0VL",
        "outputId": "81d8aa6a-89d8-48b3-ad34-f4862baae3fd"
      },
      "outputs": [
        {
          "data": {
            "image/png": "[encoded data removed]",
            "text/plain": [
              "<Figure size 1000x600 with 1 Axes>"
            ]
          },
          "metadata": {},
          "output_type": "display_data"
        }
      ],
      "source": [
        "import matplotlib.pyplot as plt\n",
        "class_counts = df['class'].value_counts()\n",
        "\n",
        "plt.figure(figsize=(10, 6))\n",
        "class_counts.plot(kind='bar', color='skyblue')\n",
        "\n",
        "plt.title('Class Distribution', fontsize=14)\n",
        "plt.xlabel('Class', fontsize=12)\n",
        "plt.ylabel('Count', fontsize=12)\n",
        "plt.show()"
      ]
    },
    {
      "cell_type": "code",
      "execution_count": 26,
      "metadata": {
        "colab": {
          "base_uri": "https://localhost:8080/"
        },
        "id": "9OFEKDJ1M4TD",
        "outputId": "fd2e2dc0-12e6-4b2e-f284-a1ec27fb257a"
      },
      "outputs": [
        {
          "name": "stdout",
          "output_type": "stream",
          "text": [
            "[[0 0 0 0 0 0 0 0 0 0 0 0 0 0 0 0 0 0 0 0 0 0 0 0 0 0 0 0 0 0 ... 0 0 0 0 0 0 0 0 0 0 0 0 0 0 0 0 0 0 0 0 0 0 0 0 0 0 0 0 0 0]\n",
            " [0 0 0 0 0 0 0 0 0 0 0 0 0 0 0 0 0 0 0 0 0 0 0 0 0 0 0 0 0 0 ... 0 0 0 0 0 0 0 0 0 0 0 0 0 0 0 0 0 0 0 0 0 0 0 0 0 0 0 0 0 0]\n",
            " [0 1 0 0 0 0 0 0 0 0 0 0 0 0 0 0 0 0 0 0 0 0 0 0 0 0 1 0 0 0 ... 0 0 0 0 0 0 0 0 0 0 0 0 0 0 0 0 0 0 0 0 0 0 0 0 0 0 0 0 0 0]\n",
            " [0 0 0 0 0 0 1 0 0 0 0 0 0 0 0 0 0 0 0 0 0 0 0 0 0 0 0 0 0 0 ... 0 0 0 0 0 0 0 0 0 0 0 0 0 0 0 0 0 0 0 0 0 0 0 0 0 0 0 0 0 0]\n",
            " [0 1 0 0 0 0 0 0 0 0 0 0 0 0 0 0 0 0 0 0 0 0 0 0 0 0 1 0 0 0 ... 0 0 0 0 0 0 0 0 0 0 0 0 0 0 0 0 0 0 0 0 0 0 0 0 0 0 0 0 0 0]\n",
            " [0 1 0 0 0 0 1 1 0 0 0 0 0 0 0 0 0 0 0 0 0 0 0 0 0 0 0 0 0 0 ... 0 0 0 0 0 0 0 0 0 0 0 0 0 0 0 0 0 0 0 0 0 0 0 0 0 0 0 0 0 0]\n",
            " [0 1 0 0 0 0 0 0 0 0 0 0 0 0 0 0 0 0 0 0 0 0 0 0 0 0 1 0 0 0 ... 0 0 0 0 0 0 0 0 0 0 0 0 0 0 0 1 0 0 0 0 0 0 0 0 0 0 0 0 0 0]\n",
            " [0 0 0 0 0 0 0 0 0 0 0 0 0 0 0 0 0 0 0 0 0 0 0 0 0 0 0 0 0 0 ... 0 0 0 0 0 0 0 0 0 0 0 0 0 0 0 0 0 0 0 0 0 0 0 0 0 0 0 0 0 0]\n",
            " [0 0 0 0 0 0 0 0 0 0 0 0 0 0 0 0 0 0 0 0 0 0 0 0 0 0 0 0 0 0 ... 0 0 0 0 0 0 0 0 0 0 0 0 0 0 0 0 0 0 0 0 0 0 0 0 0 0 0 0 0 0]\n",
            " [0 0 0 0 0 0 0 0 0 0 0 0 0 0 0 0 0 0 0 0 0 0 0 0 0 0 0 0 0 0 ... 0 0 0 0 0 0 0 0 0 0 0 0 0 0 0 0 0 0 0 0 0 0 0 0 0 0 0 0 0 0]\n",
            " [0 0 0 0 0 0 0 0 0 0 0 0 0 0 0 0 0 0 0 0 0 0 0 0 0 0 0 0 0 0 ... 0 0 0 0 0 0 0 0 0 0 0 0 0 0 0 0 0 0 0 0 0 0 0 0 0 0 0 0 0 0]\n",
            " [0 0 0 0 0 0 0 0 0 0 0 0 0 0 0 0 0 0 0 0 0 0 0 0 0 0 0 0 0 0 ... 0 0 0 0 0 0 0 0 0 0 0 0 0 0 0 0 0 0 0 0 0 0 0 0 0 0 0 0 0 0]\n",
            " [0 0 0 0 0 0 0 0 0 0 0 0 0 0 0 0 0 0 0 0 0 0 1 0 0 0 0 0 0 0 ... 0 0 0 0 0 0 0 0 0 0 0 0 0 0 0 0 0 0 0 0 0 0 0 0 0 0 0 0 0 0]\n",
            " [0 0 0 0 0 0 0 0 0 0 0 0 0 0 0 0 0 0 0 0 0 0 1 0 0 0 0 0 0 0 ... 0 0 0 0 0 0 0 0 0 0 0 0 0 0 0 0 0 0 0 0 0 0 0 0 0 0 0 0 0 0]\n",
            " [0 0 0 0 0 0 0 0 1 0 0 0 0 0 0 0 0 0 0 0 0 0 0 0 0 0 0 0 0 0 ... 0 0 0 0 0 0 0 0 0 0 0 0 0 0 0 0 0 0 0 0 0 0 0 0 0 0 0 0 0 0]\n",
            " [0 0 0 0 0 0 0 0 0 1 0 0 0 0 0 0 0 0 0 0 0 0 0 0 0 0 0 0 0 0 ... 0 0 0 0 0 0 0 0 0 0 0 0 0 0 0 0 0 0 0 0 0 0 0 0 0 0 0 0 0 0]\n",
            " [0 0 0 0 0 0 0 0 0 0 0 0 0 0 0 0 0 0 0 0 0 0 0 0 0 0 0 0 0 0 ... 0 0 0 0 0 0 0 0 0 0 0 0 0 0 0 0 0 0 0 0 0 0 0 0 0 0 0 0 0 0]\n",
            " [0 0 0 0 0 0 1 0 0 0 0 0 0 0 0 0 0 0 0 0 0 0 1 0 0 0 0 0 0 0 ... 0 0 0 0 0 0 0 0 0 0 0 0 0 0 0 0 0 0 0 0 0 0 0 0 0 0 0 0 0 0]\n",
            " [0 0 0 0 0 0 1 0 0 0 0 0 0 0 0 0 0 0 0 0 0 0 0 0 0 0 0 0 0 0 ... 0 0 0 0 0 0 0 0 0 0 0 0 0 0 0 0 0 0 0 0 0 0 0 0 0 0 0 0 0 0]\n",
            " [0 0 0 0 0 0 1 0 0 0 0 0 0 0 0 0 0 0 0 0 0 0 0 0 0 0 0 0 0 0 ... 0 0 0 0 0 0 0 0 0 0 0 0 0 0 0 0 0 0 0 0 0 0 0 0 0 0 0 0 0 0]\n",
            " [0 0 0 0 0 0 0 0 0 0 0 0 0 0 0 0 0 0 0 0 0 0 0 0 0 0 0 0 0 0 ... 0 0 0 0 0 0 0 0 0 0 0 0 0 0 0 0 0 0 0 0 0 0 0 0 0 0 0 0 0 0]\n",
            " [1 0 0 0 0 0 0 0 0 0 0 0 0 0 0 0 0 0 0 0 0 0 0 0 0 0 0 0 0 0 ... 0 0 0 0 0 0 0 0 0 0 0 0 0 0 0 0 0 0 0 0 0 0 0 0 0 0 0 0 0 0]\n",
            " [1 0 0 0 0 0 0 0 0 0 0 0 0 0 0 0 0 0 0 0 0 0 0 0 0 0 0 0 0 0 ... 0 0 0 0 0 0 0 0 0 0 0 0 0 0 0 0 0 0 0 0 0 0 0 0 0 0 0 0 0 0]\n",
            " [0 0 0 0 0 0 0 0 0 0 0 0 0 0 0 0 0 0 0 0 0 0 0 0 0 0 0 0 0 0 ... 0 0 0 0 0 0 0 0 0 0 0 0 0 0 0 0 0 0 0 0 0 1 0 0 0 0 0 0 0 0]\n",
            " [0 0 0 0 0 0 0 0 0 0 0 0 0 0 0 0 0 0 0 0 0 0 0 0 0 0 0 0 0 0 ... 0 0 0 0 0 0 0 0 0 0 0 0 0 0 0 0 0 0 0 0 0 0 0 0 0 0 0 0 0 0]\n",
            " [0 0 0 0 0 0 0 0 0 0 0 0 0 0 0 0 0 0 0 0 0 0 0 0 0 0 0 0 0 0 ... 0 0 0 0 0 0 0 0 0 0 0 0 0 0 0 0 0 0 0 0 0 0 0 0 0 0 0 0 0 0]\n",
            " [0 0 0 0 0 0 0 0 0 0 0 0 0 0 0 1 0 0 0 0 0 0 0 0 0 0 0 0 0 0 ... 0 0 0 0 0 0 0 0 0 0 0 0 0 0 0 0 0 0 0 0 0 0 0 0 0 0 0 0 0 0]\n",
            " [0 0 0 0 0 0 0 0 0 0 0 0 0 0 0 0 0 0 0 0 0 0 0 0 0 0 0 0 0 0 ... 0 0 0 0 0 0 0 0 0 0 0 0 0 0 0 0 0 0 0 0 0 0 0 0 0 0 0 0 0 0]\n",
            " [0 0 0 0 0 0 0 0 0 0 0 0 0 0 0 0 0 0 0 0 0 0 0 0 0 0 0 0 0 0 ... 0 0 0 0 0 0 0 0 0 0 0 0 0 0 0 0 0 0 0 0 0 0 0 0 0 0 0 0 0 0]\n",
            " [0 0 0 0 0 0 0 0 0 0 0 0 0 1 0 0 0 1 0 0 0 0 0 0 0 0 0 0 0 0 ... 0 0 0 0 0 0 0 0 0 0 0 0 0 0 0 0 0 0 0 0 0 0 0 0 0 0 0 0 0 0]\n",
            " ...\n",
            " [0 0 0 0 0 0 0 0 0 0 0 0 0 0 0 0 0 0 0 0 0 0 0 0 0 0 0 0 0 0 ... 0 0 0 0 0 0 0 0 0 0 0 0 0 0 0 0 0 0 0 0 0 0 0 0 0 0 0 0 0 0]\n",
            " [0 1 0 0 0 0 0 0 0 0 0 0 0 0 0 0 0 0 0 0 0 0 0 0 0 0 0 0 0 0 ... 0 0 0 0 0 0 0 0 0 0 0 0 0 0 0 1 0 0 0 0 0 0 0 0 0 0 0 0 0 0]\n",
            " [0 0 0 0 0 0 0 0 0 0 0 0 0 0 0 0 0 0 0 0 0 0 0 0 0 0 0 0 0 0 ... 0 0 0 0 0 0 1 0 0 0 0 0 0 0 0 0 0 0 0 0 0 0 0 0 0 0 0 0 0 0]\n",
            " [0 1 0 0 0 0 0 0 0 0 0 0 0 0 0 0 0 0 0 0 0 0 0 0 0 0 0 0 0 0 ... 0 0 0 0 0 0 0 0 0 0 0 0 0 0 0 0 0 0 0 0 0 0 0 0 0 0 0 0 0 0]\n",
            " [0 0 0 0 0 0 0 0 0 0 0 0 0 0 0 0 0 0 0 0 0 1 0 0 0 0 0 0 0 0 ... 0 0 0 0 0 0 0 0 0 0 0 0 0 0 0 0 0 0 0 0 0 0 0 0 0 0 0 0 0 0]\n",
            " [0 0 0 0 0 0 0 0 0 0 0 0 0 0 0 0 0 0 0 0 0 0 0 0 0 0 0 0 0 0 ... 0 0 0 0 0 0 0 0 0 0 0 0 0 0 0 1 0 0 0 0 0 0 0 0 0 0 0 0 0 0]\n",
            " [0 0 0 0 0 0 0 0 0 0 0 0 0 0 0 0 0 0 1 0 0 0 0 0 0 0 0 0 0 0 ... 0 0 0 0 0 0 0 0 0 0 0 0 0 0 0 0 0 0 0 0 0 0 0 0 0 0 0 0 0 0]\n",
            " [0 0 0 0 0 0 0 0 0 0 0 0 0 0 0 0 0 0 0 0 0 0 0 0 0 0 0 0 0 0 ... 0 0 0 0 0 0 0 0 0 0 0 0 0 0 0 0 0 0 0 0 0 0 0 0 0 0 0 0 0 0]\n",
            " [0 0 0 0 0 0 0 0 0 0 0 0 0 0 0 0 0 0 0 0 0 0 0 0 0 0 0 0 0 0 ... 0 0 0 0 0 0 0 0 0 0 0 0 0 0 0 0 0 0 0 0 0 0 0 0 0 0 0 0 0 0]\n",
            " [0 0 0 0 0 0 0 0 0 0 0 0 0 0 0 0 0 0 0 0 0 0 0 0 0 0 0 0 0 0 ... 0 0 0 0 0 0 0 0 0 0 0 0 0 0 0 1 0 0 0 0 0 0 0 0 0 1 0 0 0 0]\n",
            " [0 0 0 0 0 0 0 0 0 0 0 0 0 0 0 0 0 0 0 0 0 0 0 0 0 0 0 0 0 0 ... 0 0 0 0 0 0 0 0 0 0 0 0 0 0 0 0 0 0 0 0 0 0 0 0 0 1 0 0 0 0]\n",
            " [0 0 0 0 0 0 0 0 0 0 0 0 0 0 0 0 0 0 0 0 0 0 0 0 0 0 0 0 0 0 ... 0 0 0 0 0 0 0 0 0 0 0 0 0 0 0 0 0 0 0 0 0 0 0 0 0 0 0 0 0 0]\n",
            " [0 0 0 0 0 0 0 0 0 0 0 0 0 0 0 0 0 0 0 0 0 0 0 0 0 0 0 0 0 0 ... 0 0 0 0 0 0 0 0 0 0 0 0 0 0 0 0 0 0 0 0 0 0 0 0 0 0 0 0 0 0]\n",
            " [0 0 0 0 0 0 0 0 0 0 0 0 0 0 0 0 0 0 0 0 0 0 0 0 0 0 0 0 0 0 ... 0 0 0 0 0 0 0 0 0 0 0 0 0 0 0 0 0 0 0 0 0 0 0 0 0 0 0 0 0 0]\n",
            " [0 0 0 0 0 0 0 0 0 0 0 0 0 0 0 0 0 0 0 0 0 0 0 0 0 0 0 0 0 0 ... 0 0 0 0 0 0 0 0 0 0 0 0 0 0 0 0 0 0 0 0 0 0 0 0 0 0 0 0 0 0]\n",
            " [0 0 0 0 0 0 0 0 0 0 0 0 0 0 0 0 0 0 0 0 0 0 0 0 0 0 0 0 0 0 ... 0 0 0 0 0 0 0 0 0 0 0 0 0 0 0 0 0 0 0 0 0 0 0 0 0 0 0 0 1 0]\n",
            " [0 0 0 0 0 0 0 0 0 0 0 0 0 0 0 0 0 0 0 0 0 0 0 0 0 0 0 0 0 0 ... 0 0 0 0 0 0 0 0 0 0 0 0 0 0 0 0 0 0 0 0 0 0 0 0 0 0 0 0 0 0]\n",
            " [0 0 0 0 0 0 0 0 0 0 0 0 0 0 0 0 0 0 0 0 0 0 0 0 0 0 0 0 0 0 ... 0 0 0 0 0 0 0 0 0 0 0 0 0 0 0 0 0 0 0 0 0 0 0 0 0 0 0 0 0 0]\n",
            " [0 0 0 0 0 0 0 0 0 0 0 0 0 0 0 0 0 0 0 0 0 0 0 0 0 0 0 0 0 0 ... 0 0 0 0 0 0 0 0 0 0 0 0 0 0 0 1 0 0 0 0 0 0 0 0 0 0 0 0 0 0]\n",
            " [0 0 0 0 0 0 0 0 0 0 0 0 0 0 0 0 0 0 0 0 0 0 0 0 0 0 0 0 0 0 ... 0 0 0 0 0 0 0 0 0 0 0 0 0 0 0 1 0 0 0 1 0 0 0 0 0 0 0 0 0 0]\n",
            " [0 1 0 0 0 0 0 0 0 0 0 0 0 0 0 0 0 0 0 0 0 0 0 0 0 0 0 0 0 0 ... 0 0 0 0 0 0 0 0 0 0 0 0 0 0 0 0 1 0 0 0 0 0 0 0 0 0 0 0 0 0]\n",
            " [0 1 0 0 0 0 0 0 0 0 0 0 0 0 0 0 0 0 0 0 0 0 0 0 0 0 0 0 0 0 ... 0 0 0 0 0 0 0 0 0 0 0 0 0 0 0 0 0 0 0 0 0 0 0 0 0 0 0 0 0 0]\n",
            " [0 0 0 0 0 0 1 0 0 0 0 0 0 0 0 0 0 0 0 0 0 0 0 0 0 0 0 0 0 0 ... 0 0 0 0 0 0 0 0 0 0 0 0 0 0 0 1 0 0 0 0 0 0 0 0 0 0 0 0 0 0]\n",
            " [0 0 0 0 0 0 0 0 0 0 0 0 0 0 0 0 0 0 0 0 0 0 0 0 0 0 0 0 0 0 ... 0 0 0 0 0 0 0 0 0 0 0 0 0 0 0 0 0 0 0 0 0 0 0 0 0 0 0 0 0 0]\n",
            " [0 0 0 0 0 0 0 0 0 0 0 0 0 0 0 0 0 0 0 0 0 0 0 0 0 0 0 0 0 0 ... 0 0 0 0 0 0 0 0 0 0 0 0 0 0 0 0 0 0 0 0 0 0 0 0 0 0 0 0 0 0]\n",
            " [0 0 0 0 0 0 1 0 0 0 0 0 0 0 0 0 0 0 0 0 0 0 0 0 0 0 0 0 0 0 ... 0 0 0 0 0 0 0 0 0 0 0 0 0 0 0 0 0 0 0 0 0 0 0 0 0 0 0 0 0 0]\n",
            " [0 0 0 0 0 0 0 0 0 0 0 0 0 0 0 0 0 0 0 0 0 0 0 0 0 0 0 0 0 0 ... 0 0 0 0 0 0 0 0 0 0 0 0 0 0 0 1 0 0 0 0 0 0 0 0 0 0 0 0 0 0]\n",
            " [0 0 0 0 0 0 1 0 0 0 0 0 0 0 0 0 0 0 0 0 0 0 0 0 0 0 0 0 0 0 ... 0 0 0 0 0 0 0 0 0 0 0 0 0 0 0 0 0 0 0 0 0 0 0 0 0 0 0 0 0 0]\n",
            " [0 1 0 0 0 0 0 0 0 0 0 0 0 0 0 0 0 0 0 0 0 0 0 0 0 0 0 0 0 0 ... 0 0 0 0 0 0 0 0 0 0 0 0 0 0 0 0 0 0 0 0 0 0 0 0 0 0 0 0 0 0]\n",
            " [0 0 0 0 0 0 0 0 0 0 0 0 0 0 0 0 0 0 0 0 0 0 0 0 0 0 0 0 0 0 ... 0 0 0 0 0 0 0 0 0 0 0 0 0 0 0 0 0 0 0 0 0 0 0 0 0 0 0 0 0 0]]\n",
            "{'system': 1193, 'shall': 1111, 'refresh': 983, 'display': 360, 'every': 438, 'second': 1085, 'application': 86, 'match': 723, 'color': 230, 'schema': 1072, 'set': 1107, 'forth': 497, 'department': 331, 'homeland': 553, 'security': 1090, 'projected': 934, 'data': 311, 'must': 771, 'readable': 965, 'projection': 935, 'screen': 1078, 'viewer': 1303, 'able': 1, 'read': 964, 'event': 437, 'activity': 26, 'viewing': 1304, 'distance': 366, 'product': 928, 'available': 128, 'normal': 796, 'business': 166, 'hour': 556, 'long': 694, 'user': 1277, 'access': 6, 'client': 217, 'pc': 858, 'time': 1219, 'first': 482, 'six': 1129, 'month': 763, 'operation': 825, 'understandable': 1256, 'determine': 345, 'occuring': 807, 'current': 299, 'ensure': 414, 'accessed': 7, 'authorized': 122, 'distinguish': 367, 'unauthorized': 1251, 'attempt': 110, 'intuitive': 619, 'self': 1096, 'explanatory': 451, 'new': 787, 'start': 1148, 'within': 1321, 'minute': 748, 'using': 1279, 'respond': 1025, 'fast': 466, 'keep': 636, 'date': 314, 'mdi': 728, 'form': 492, 'allows': 64, 'graph': 525, 'table': 1195, 'vertical': 1298, 'rule': 1056, 'specified': 1141, 'dispute': 364, 'compliance': 248, 'guideline': 533, 'regulation': 991, 'maintain': 703, 'detailed': 344, 'history': 548, 'action': 22, 'take': 1196, 'case': 187, 'ensures': 415, 'complete': 244, 'audit': 115, 'trail': 1232, 'question': 956, 'arise': 98, 'later': 649, 'regard': 984, 'particular': 850, 'modify': 758, 'existing': 448, 'recorded': 975, 'accessible': 8, 'internal': 613, 'external': 456, 'prevent': 910, 'accessing': 9, 'belong': 143, 'cardholder': 185, 'base': 136, 'facilitate': 457, 'direct': 354, 'entry': 422, 'via': 1300, 'interface': 611, 'support': 1182, 'real': 966, 'response': 1028, 'provide': 944, 'different': 352, 'level': 662, 'initiation': 593, 'follow': 487, 'view': 1302, 'capability': 179, 'update': 1267, 'allow': 61, 'select': 1092, 'disputable': 363, 'transaction': 1234, 'based': 137, 'age': 52, 'initiate': 591, 'ticket': 1218, 'retrieval': 1038, 'request': 1010, 'chargeback': 200, 'notification': 798, 'selected': 1093, 'ability': 0, 'single': 1125, 'multiple': 770, 'merchant': 736, 'create': 291, 'part': 849, 'creation': 294, 'process': 924, 'prompt': 937, 'enter': 417, 'required': 1014, 'information': 587, 'document': 372, 'sent': 1100, 'inquiring': 595, 'validity': 1285, 'three': 1216, 'unique': 1257, 'type': 1248, 'original': 832, 'receipt': 969, 'copy': 283, 'portfolio': 893, 'consists': 270, 'documentation': 373, 'would': 1327, 'proof': 939, 'purchase': 947, 'received': 971, 'car': 183, 'rental': 1004, 'agency': 53, 'sale': 1060, 'requesting': 1012, 'restricted': 1033, 'confirmation': 263, 'upon': 1270, 'contains': 275, 'following': 488, 'number': 803, 'requested': 1011, 'due': 383, 'result': 1034, 'printed': 917, 'indicating': 581, 'account': 15, 'charged': 201, 'back': 133, 'provided': 945, 'disputed': 365, 'valid': 1282, 'contain': 272, 'pending': 862, 'immediate': 565, 'duplicate': 384, 'accurately': 17, 'list': 675, 'possible': 899, 'reason': 968, 'code': 223, 'given': 519, 'derived': 336, 'industry': 584, 'belongs': 144, 'according': 13, 'defined': 325, 'search': 1082, 'functionality': 509, 'method': 739, 'include': 568, 'cardmember': 186, 'issuer': 627, 'addition': 32, 'criterion': 296, 'limit': 670, 'range': 958, 'status': 1152, 'open': 821, 'closed': 221, 'meet': 731, 'entered': 418, 'differentiate': 353, 'coding': 224, 'line': 672, 'item': 628, 'example': 441, 'yellow': 1332, 'gray': 527, 'occurred': 808, 'filtered': 477, 'record': 974, 'name': 773, 'creates': 293, 'modifies': 757, 'taken': 1197, 'including': 571, 'performed': 868, 'maintained': 704, 'auditing': 116, 'purpose': 951, 'systematic': 1194, 'non': 795, 'initiated': 592, 'occurs': 810, 'aging': 56, 'generated': 515, 'next': 788, 'logon': 692, 'notified': 799, 'letter': 661, 'formatted': 494, 'print': 916, 'utility': 1280, 'purged': 950, 'online': 819, 'database': 312, 'internet': 614, 'explorer': 452, 'mozilla': 767, 'firefox': 481, 'choice': 206, 'provides': 946, 'feed': 471, 'recycled': 979, 'run': 1057, 'hardware': 539, 'environment': 423, 'adhere': 36, 'corporate': 284, 'architecture': 96, 'comply': 249, 'scheme': 1073, 'appearance': 84, 'appear': 83, 'professional': 930, 'software': 1132, 'expected': 449, 'window': 1320, 'linux': 674, 'platform': 883, 'easy': 390, 'use': 1275, 'adjuster': 39, 'collision': 228, 'estimator': 433, 'find': 480, 'increase': 574, 'productivity': 929, 'agree': 57, 'feel': 473, 'satisfied': 1063, 'learn': 655, 'learned': 656, 'two': 1247, 'day': 315, 'onsite': 820, 'training': 1233, 'easily': 389, 'locate': 683, 'instruction': 602, 'help': 541, 'found': 498, 'longer': 695, 'returned': 1042, 'preferred': 907, 'repair': 1006, 'facility': 458, 'report': 1007, 'rating': 960, 'saved': 1066, 'save': 1065, 'occur': 806, 'availability': 127, 'schedule': 1069, 'brought': 157, 'scheduled': 1070, 'outage': 833, 'per': 864, 'achieve': 18, 'uptime': 1271, 'fail': 461, 'handle': 534, 'simultaneous': 1122, 'perform': 866, 'average': 129, 'concurrent': 255, 'year': 1331, 'initial': 590, 'launch': 651, 'operated': 823, 'dirty': 357, 'noisy': 793, 'condition': 256, 'choiceparts': 207, 'approximately': 94, 'maintenance': 706, 'fall': 463, 'established': 429, 'supported': 1183, 'center': 193, 'installation': 600, 'upgrade': 1269, 'handled': 535, 'middleware': 742, 'technology': 1203, 'team': 1200, 'frame': 500, 'without': 1322, 'role': 1050, 'supervisor': 1177, 'cannot': 178, 'invalid': 621, 'one': 818, 'insurance': 603, 'company': 239, 'another': 76, 'claim': 212, 'free': 502, 'computer': 252, 'virus': 1305, 'malicious': 710, 'attack': 109, 'denial': 330, 'service': 1105, 'sarbanes': 1061, 'oxley': 841, 'estimatics': 432, 'law': 652, 'relating': 994, 'usage': 1274, 'regarding': 985, 'processing': 926, 'vehicle': 1289, 'location': 685, 'radius': 957, 'mile': 744, 'make': 708, 'model': 754, 'street': 1160, 'address': 34, 'city': 211, 'state': 1149, 'zipcode': 1335, 'resolve': 1022, 'unknown': 1261, 'highest': 545, 'input': 594, 'estimate': 431, 'assignment': 105, 'override': 838, 'facitlity': 459, 'return': 1041, 'determined': 346, 'damaged': 309, 'supplier': 1179, 'supplied': 1178, 'retain': 1037, 'apply': 88, 'review': 1045, 'retrieved': 1040, 'generate': 514, 'total': 1227, 'used': 1276, 'percentage': 865, 'score': 1075, 'sum': 1172, 'indivual': 583, 'displayed': 362, 'point': 889, 'blank': 150, 'yet': 1333, 'scale': 1068, 'category': 188, 'attempted': 111, 'actual': 28, 'work': 1324, 'management': 713, 'dbms': 318, 'market': 721, 'whether': 1319, 'colocated': 229, 'machine': 699, 'located': 684, 'network': 784, 'function': 508, 'alongside': 66, 'server': 1104, 'operating': 824, 'java': 631, 'runtime': 1059, 'installed': 601, 'require': 1013, 'collaboration': 226, 'may': 726, 'separate': 1101, 'residing': 1020, 'web': 1312, 'source': 1136, 'apache': 79, 'tomcat': 1225, 'jboss': 632, 'oracle': 828, 'db': 316, 'mysql': 772, 'hsql': 557, 'need': 781, 'integrated': 605, 'look': 696, 'incorporate': 572, 'aspect': 102, 'customer': 302, 'organization': 830, 'logo': 691, 'branding': 154, 'identity': 562, 'conservative': 268, 'want': 1308, 'surveyed': 1186, 'regularly': 990, 'week': 1315, 'post': 900, 'successfully': 1171, 'reserve': 1018, 'conference': 258, 'room': 1051, 'give': 518, 'feedback': 472, 'necessary': 780, 'confirms': 264, 'chosen': 209, 'language': 643, 'target': 1198, 'country': 289, 'customization': 304, 'page': 843, 'preference': 906, 'employee': 399, 'informally': 586, 'navigating': 777, 'less': 659, 'setup': 1109, 'meeting': 732, 'standard': 1147, 'navigation': 778, 'menu': 735, 'familiar': 464, 'searching': 1083, 'conform': 265, 'american': 69, 'disability': 358, 'act': 21, 'enough': 412, 'avoid': 130, 'interrupting': 615, 'flow': 486, 'thought': 1213, 'task': 1199, 'aside': 100, 'failure': 462, 'exception': 444, 'log': 686, 'problem': 923, 'encountered': 403, 'transmission': 1237, 'analysis': 71, 'resolution': 1021, 'capable': 180, 'handling': 536, 'release': 995, 'concurrency': 254, 'capacity': 181, 'peak': 860, 'scheduling': 1071, 'early': 388, 'morning': 764, 'late': 647, 'afternoon': 51, 'operate': 822, 'least': 657, 'office': 816, 'html': 558, 'browser': 159, 'transmit': 1238, 'properly': 940, 'tested': 1209, 'minimum': 747, 'test': 1208, 'various': 1288, 'communicate': 235, 'email': 396, 'send': 1099, 'distribution': 370, 'binary': 148, 'zip': 1334, 'file': 474, 'packaged': 842, 'cd': 191, 'licensing': 666, 'five': 484, 'license': 664, 'added': 31, 'designed': 341, 'design': 339, 'pattern': 854, 'best': 145, 'practice': 903, 'developer': 348, 'integrate': 604, 'working': 1325, 'highly': 546, 'configurable': 259, 'end': 407, 'changing': 198, 'offered': 814, 'install': 598, 'registered': 988, 'site': 1127, 'solution': 1133, 'building': 163, 'map': 718, 'throughout': 1217, 'lifecycle': 668, 'integration': 606, 'little': 677, 'staff': 1146, 'translated': 1236, 'foreign': 491, 'future': 510, 'emerging': 398, 'configure': 261, 'sql': 1145, 'approved': 93, 'id': 560, 'logons': 693, 'either': 393, 'manager': 714, 'query': 955, 'reservation': 1017, 'corresponds': 287, 'adjacent': 37, 'remain': 998, 'uncorrupted': 1253, 'dependent': 333, 'filesystems': 475, 'operational': 826, 'crash': 290, 'receive': 970, 'automatic': 125, 'threat': 1215, 'emerge': 397, 'transmitted': 1239, 'accommodate': 10, 'survey': 1185, 'respondent': 1026, 'acceptable': 4, 'calendar': 172, 'locale': 681, 'formatting': 495, 'correct': 285, 'developed': 347, 'se': 1080, 'ee': 391, 'programming': 932, 'library': 663, 'notify': 800, 'invitation': 623, 'reminder': 1001, 'assign': 103, 'organizer': 831, 'contact': 271, 'acknowledgement': 19, 'store': 1154, 'delete': 328, 'equipment': 425, 'invite': 624, 'reserved': 1019, 'updated': 1268, 'reflect': 981, 'transportation': 1242, 'showing': 1116, 'agenda': 54, 'parameter': 848, 'personnel': 876, 'transport': 1241, 'priviledged': 921, 'reporting': 1009, 'kind': 641, 'customizable': 303, 'unreserved': 1264, 'recreation': 978, 'inventory': 622, 'quantity': 952, 'adjustment': 40, 'period': 870, 'previous': 912, 'min': 746, 'utilize': 1281, 'currently': 300, 'owned': 839, 'automatically': 126, 'backup': 134, 'restore': 1031, 'demand': 329, 'consistent': 269, 'change': 197, 'password': 853, 'permission': 872, 'affect': 46, 'granularly': 524, 'control': 279, 'right': 1047, 'major': 707, 'subsystem': 1170, 'independently': 578, 'applicable': 85, 'accounting': 16, 'final': 478, 'version': 1296, 'pas': 852, 'independent': 577, 'certified': 196, 'auditor': 117, 'additional': 33, 'third': 1212, 'party': 851, 'resulting': 1035, 'royalty': 1054, 'fee': 470, 'generation': 516, 'since': 1124, 'certain': 195, 'iqa': 626, 'adjust': 38, 'substitutionary': 1169, 'ingredient': 589, 'accordingly': 14, 'entering': 419, 'storing': 1156, 'modifying': 759, 'formula': 496, 'semi': 1098, 'defining': 326, 'pfe': 877, 'kept': 638, 'persisted': 874, 'order': 829, 'po': 888, 'terminal': 1206, 'pme': 887, 'keeping': 637, 'submenu': 1165, 'managed': 712, 'exist': 447, 'rms': 1048, 'xp': 1330, 'gui': 531, 'making': 709, 'daily': 308, 'administrator': 42, 'activate': 23, 'pre': 904, 'paid': 844, 'card': 184, 'administration': 41, 'section': 1087, 'check': 203, 'prepaid': 908, 'pin': 881, 'let': 660, 'register': 987, 'website': 1313, 'pay': 856, 'go': 520, 'unlimited': 1263, 'movie': 766, 'subscriber': 1168, 'cancel': 176, 'mark': 719, 'inactive': 567, 'de': 319, 'add': 30, 'remove': 1003, 'stored': 1155, 'izogn': 629, 'statistic': 1151, 'excel': 443, 'attractive': 113, 'audience': 114, 'fun': 507, 'bright': 155, 'vibrant': 1301, 'african': 49, 'alienate': 59, 'animation': 73, 'describing': 337, 'grab': 521, 'attention': 112, 'encourage': 404, 'sign': 1118, 'modern': 755, 'clean': 214, 'concise': 253, 'novice': 802, 'navigate': 776, 'maximum': 725, 'streaming': 1159, 'click': 216, 'logging': 688, 'anonymous': 75, 'show': 1115, 'comfortable': 232, 'purchasing': 949, 'buying': 169, 'skill': 1130, 'watch': 1310, 'symbol': 1188, 'word': 1323, 'naturally': 775, 'convention': 280, 'interacting': 609, 'automated': 124, 'unless': 1262, 'noted': 797, 'credit': 295, 'buffering': 162, 'plus': 885, 'latency': 648, 'connection': 267, 'secured': 1089, 'encrypted': 405, 'streamed': 1158, 'continue': 277, 'payment': 857, 'gateway': 512, 'supporting': 1184, 'budget': 160, 'ie': 563, 'netscape': 783, 'cybersource': 306, 'api': 80, 'fully': 506, 'msn': 768, 'tv': 1246, 'encoded': 402, 'medium': 730, 'player': 884, 'stream': 1157, 'promotional': 936, 'listing': 676, 'toll': 1224, 'answer': 77, 'common': 234, 'velkat': 1290, 'phone': 878, 'pm': 886, 'technical': 1201, 'purchased': 948, 'corrupted': 288, 'incorrect': 573, 'protect': 942, 'intentional': 608, 'abuse': 2, 'occurrence': 809, 'integrity': 607, 'script': 1079, 'weekly': 1316, 'basis': 139, 'verify': 1295, 'aware': 132, 'collection': 227, 'privacy': 919, 'policy': 890, 'reveal': 1043, 'private': 920, 'secure': 1088, 'anti': 78, 'infection': 585, 'cater': 189, 'tribe': 1244, 'nigeria': 790, 'offensive': 812, 'religious': 997, 'ethnic': 434, 'group': 529, 'appeal': 81, 'nigerian': 791, 'flash': 485, 'home': 552, 'izognmovies': 630, 'requirement': 1015, 'appropriate': 90, 'php': 879, 'pear': 861, 'title': 1222, 'actor': 27, 'director': 356, 'detail': 343, 'description': 338, 'authorize': 121, 'allowing': 63, 'aftere': 50, 'browse': 158, 'approve': 92, 'posted': 901, 'value': 1286, 'mail': 701, 'option': 827, 'main': 702, 'friday': 504, 'latest': 650, 'billing': 147, 'distributed': 369, 'paper': 846, 'trial': 1243, 'logged': 687, 'even': 436, 'owner': 840, 'lead': 653, 'cycle': 307, 'completed': 245, 'volume': 1306, 'cst': 298, 'evaluation': 435, 'processed': 925, 'duration': 385, 'fit': 483, 'auto': 123, 'rep': 1005, 'assigned': 104, 'life': 667, 'washing': 1309, 'physical': 880, 'structure': 1161, 'binding': 149, 'neutral': 786, 'format': 493, 'xml': 1329, 'receiving': 972, 'defect': 322, 'unit': 1258, 'vendor': 1291, 'submit': 1166, 'validation': 1284, 'applied': 87, 'enterprise': 420, 'scored': 1076, 'high': 543, 'supply': 1180, 'validate': 1283, 'insert': 597, 'captured': 182, 'ara': 95, 'manual': 717, 'verification': 1294, 'enrollment': 413, 'coordinator': 282, 'eleads': 394, 'low': 698, 'supplying': 1181, 'compile': 243, 'academic': 3, 'scoring': 1077, 'school': 1074, 'along': 65, 'rejection': 992, 'authentication': 119, 'potential': 902, 'prior': 918, 'submitting': 1167, 'admission': 43, 'simulate': 1121, 'ship': 1112, 'sea': 1081, 'grid': 528, 'circle': 210, 'periscope': 871, 'image': 564, 'specific': 1139, 'shot': 1114, 'sound': 1135, 'marked': 720, 'miss': 749, 'missing': 750, 'hit': 549, 'hitting': 550, 'sunk': 1176, 'sinking': 1126, 'seven': 1110, 'large': 644, 'game': 511, 'simultaneously': 1123, 'remaining': 999, 'might': 743, 'nine': 792, 'ten': 1205, 'understand': 1255, 'english': 411, 'spanish': 1138, 'french': 503, 'identify': 561, 'unavailable': 1252, 'selection': 1095, 'selecting': 1094, 'defensive': 323, 'position': 895, 'respective': 1024, 'horizontally': 554, 'vertically': 1299, 'diagonally': 351, 'overlapping': 837, 'positioned': 896, 'define': 324, 'turn': 1245, 'examine': 440, 'indicate': 580, 'ended': 408, 'last': 645, 'previously': 913, 'ending': 409, 'caller': 174, 'accomplish': 11, 'responsive': 1029, 'depaul': 332, 'teleservices': 1204, 'us': 1272, 'rest': 1030, 'faster': 467, 'navigator': 779, 'advertise': 45, 'empty': 400, 'slot': 1131, 'allowed': 62, 'simple': 1120, 'usability': 1273, 'beta': 146, 'tester': 1210, 'adequately': 35, 'appealing': 82, 'monitoring': 762, 'monitor': 761, 'message': 737, 'exchange': 445, 'predict': 905, 'also': 67, 'chicago': 205, 'development': 349, 'guide': 532, 'framework': 501, 'structured': 1162, 'graphical': 526, 'dba': 317, 'error': 426, 'tracking': 1228, 'portal': 892, 'analyze': 72, 'ad': 29, 'hoc': 551, 'kpis': 642, 'key': 639, 'performance': 867, 'indicator': 582, 'asynchronous': 108, 'messaging': 738, 'enable': 401, 'parallel': 847, 'reduce': 980, 'overhead': 836, 'communication': 237, 'multi': 769, 'threading': 1214, 'load': 678, 'balancing': 135, 'well': 1317, 'overcome': 835, 'spike': 1143, 'traffic': 1231, 'poll': 891, 'dynamic': 386, 'transparent': 1240, 'resource': 1023, 'scalability': 1067, 'interruption': 616, 'rationale': 961, 'busiest': 165, 'regular': 989, 'robust': 1049, 'fault': 468, 'avoidance': 131, 'adoption': 44, 'tolerance': 1223, 'recovery': 977, 'technique': 1202, 'compensatory': 242, 'routing': 1053, 'around': 99, 'million': 745, 'csr': 297, 'datastream': 313, 'eam': 387, 'feature': 469, 'introduced': 618, 'quarterly': 954, 'authorization': 120, 'encryption': 406, 'checking': 204, 'ibm': 559, 'ccr': 190, 'displayable': 361, 'pixel': 882, 'nomenclature': 794, 'wcs': 1311, 'summarize': 1173, 'fashion': 465, 'summary': 1174, 'shown': 1117, 'dashboard': 310, 'activated': 24, 'mouse': 765, 'keyboard': 640, 'rreports': 1055, 'eports': 424, 'button': 167, 'exported': 454, 'short': 1113, 'amount': 70, 'remember': 1000, 'deployed': 334, 'session': 1106, 'held': 540, 'deployment': 335, 'terminology': 1207, 'community': 238, 'grant': 522, 'undergo': 1254, 'intranet': 617, 'connect': 266, 'designated': 340, 'included': 569, 'region': 986, 'outside': 834, 'united': 1259, 'running': 1058, 'brio': 156, 'portion': 894, 'export': 453, 'spreadsheet': 1144, 'microsoft': 740, 'lotus': 697, 'produce': 927, 'xl': 1328, 'made': 700, 'reflected': 982, 'authenticated': 118, 'logins': 690, 'cooky': 281, 'containing': 274, 'login': 689, 'username': 1278, 'reach': 962, 'commissioner': 233, 'league': 654, 'setting': 1108, 'index': 579, 'contained': 273, 'similar': 1119, 'board': 151, 'recently': 973, 'character': 199, 'reaching': 963, 'drop': 381, 'trade': 1229, 'nfl': 789, 'ask': 101, 'confirm': 262, 'dropping': 382, 'trading': 1230, 'performing': 869, 'fourth': 499, 'downtime': 378, 'wait': 1307, 'degradation': 327, 'monday': 760, 'saturday': 1064, 'est': 428, 'sunday': 1175, 'amd': 68, 'statement': 1150, 'obtained': 805, 'primary': 915, 'cached': 170, 'active': 25, 'font': 489, 'realtor': 967, 'cma': 222, 'synchronize': 1191, 'appointment': 89, 'offline': 817, 'mode': 753, 'whenever': 1318, 'downloaded': 377, 'restored': 1032, 'come': 231, 'remote': 1002, 'grow': 530, 'untrained': 1265, 'recourse': 976, 'separately': 1102, 'device': 350, 'ce': 192, 'palm': 845, 'estate': 430, 'agent': 55, 'ml': 752, 'get': 517, 'driving': 380, 'direction': 355, 'property': 941, 'download': 376, 'clear': 215, 'nursing': 804, 'student': 1163, 'class': 213, 'manage': 711, 'program': 931, 'curriculum': 301, 'clinical': 218, 'typical': 1249, 'university': 1260, 'specification': 1140, 'member': 733, 'secondary': 1086, 'historical': 547, 'call': 173, 'seller': 1097, 'buyer': 168, 'synchronization': 1190, 'retrieve': 1039, 'area': 97, 'responds': 1027, 'mistake': 751, 'clinicals': 219, 'decreased': 321, 'verbiage': 1293, 'national': 774, 'timely': 1221, 'manner': 716, 'general': 513, 'campusconnect': 175, 'central': 194, 'faculty': 460, 'master': 722, 'people': 863, 'personal': 875, 'dr': 379, 'susan': 1187, 'poslusny': 897, 'julie': 634, 'donalek': 374, 'karen': 635, 'sysol': 1192, 'basic': 138, 'possibility': 898, 'accordance': 12, 'built': 164, 'interference': 612, 'protection': 943, 'cohort': 225, 'associated': 106, 'study': 1164, 'eligible': 395, 'specify': 1142, 'sequence': 1103, 'quarter': 953, 'wednesday': 1314, 'middle': 741, 'season': 1084, 'released': 996, 'beginning': 142, 'sync': 1189, 'matrix': 724, 'exercise': 446, 'tool': 1226, 'link': 673, 'managment': 715, 'modification': 756, 'offer': 813, 'filter': 476, 'venue': 1292, 'segment': 1091, 'local': 680, 'clock': 220, 'pause': 855, 'resume': 1036, 'chart': 202, 'versus': 1297, 'assumed': 107, 'rf': 1046, 'especially': 427, 'budgeting': 161, 'become': 141, 'situation': 1128, 'reported': 1008, 'workstation': 1326, 'implementation': 566, 'hard': 538, 'disk': 359, 'space': 1137, 'mb': 727, 'net': 782, 'bdw': 140, 'loaded': 679, 'october': 811, 'revenue': 1044, 'expense': 450, 'allotted': 60, 'testing': 1211, 'calculation': 171, 'conducted': 257, 'jointly': 633, 'project': 933, 'pcg': 859, 'finance': 479, 'branch': 153, 'complex': 247, 'district': 371, 'entity': 421, 'mentioned': 734, 'uas': 1250, 'limited': 671, 'granted': 523, 'hierarchy': 542, 'privilege': 922, 'enet': 410, 'corrected': 286, 'appropriately': 91, 'higher': 544, 'stipulated': 1153, 'completion': 246, 'exceed': 442, 'mean': 729, 'communicating': 236, 'affected': 47, 'routine': 1052, 'informing': 588, 'upcoming': 1266, 'timeline': 1220, 'affecting': 48, 'cancellation': 177, 'offering': 815, 'legible': 658, 'foot': 490, 'ensuring': 416, 'comprehensible': 250, 'happening': 537, 'distinguishing': 368, 'sorted': 1134, 'present': 909, 'comprehensive': 251, 'inquiry': 596, 'prevented': 911, 'involving': 625, 'prompting': 938, 'includes': 570, 'contract': 278, 'deadline': 320, 'created': 292, 'notifying': 801, 'across': 20, 'compatible': 241, 'friendly': 505, 'boost': 152, 'agreeing': 58, 'increased': 575, 'expressing': 455, 'satisfaction': 1062, 'lasting': 646, 'content': 276, 'rate': 959, 'efficiently': 392, 'despite': 342, 'permitted': 873, 'accepted': 5, 'related': 993, 'compatibility': 240, 'hosted': 555, 'locally': 682, 'networked': 785, 'like': 669, 'interaction': 610, 'choose': 208, 'customize': 305, 'intuitively': 620, 'increasing': 576, 'doubling': 375, 'primarily': 914, 'variety': 1287, 'licensed': 665, 'requiring': 1016, 'annually': 74, 'translatable': 1235, 'configuration': 260, 'installable': 599, 'exactly': 439, 'maintaining': 705}\n",
            "Vocabulary columns: ['ability', 'able', 'abuse', 'academic', 'acceptable', 'accepted', 'access', 'accessed', 'accessible', 'accessing', 'accommodate', 'accomplish', 'accordance', 'according', 'accordingly', 'account', 'accounting', 'accurately', 'achieve', 'acknowledgement', 'across', 'act', 'action', 'activate', 'activated', 'active', 'activity', 'actor', 'actual', 'ad', 'add', 'added', 'addition', 'additional', 'address', 'adequately', 'adhere', 'adjacent', 'adjust', 'adjuster', 'adjustment', 'administration', 'administrator', 'admission', 'adoption', 'advertise', 'affect', 'affected', 'affecting', 'african', 'aftere', 'afternoon', 'age', 'agency', 'agenda', 'agent', 'aging', 'agree', 'agreeing', 'alienate', 'allotted', 'allow', 'allowed', 'allowing', 'allows', 'along', 'alongside', 'also', 'amd', 'american', 'amount', 'analysis', 'analyze', 'animation', 'annually', 'anonymous', 'another', 'answer', 'anti', 'apache', 'api', 'appeal', 'appealing', 'appear', 'appearance', 'applicable', 'application', 'applied', 'apply', 'appointment', 'appropriate', 'appropriately', 'approve', 'approved', 'approximately', 'ara', 'architecture', 'area', 'arise', 'around', 'aside', 'ask', 'aspect', 'assign', 'assigned', 'assignment', 'associated', 'assumed', 'asynchronous', 'attack', 'attempt', 'attempted', 'attention', 'attractive', 'audience', 'audit', 'auditing', 'auditor', 'authenticated', 'authentication', 'authorization', 'authorize', 'authorized', 'auto', 'automated', 'automatic', 'automatically', 'availability', 'available', 'average', 'avoid', 'avoidance', 'aware', 'back', 'backup', 'balancing', 'base', 'based', 'basic', 'basis', 'bdw', 'become', 'beginning', 'belong', 'belongs', 'best', 'beta', 'billing', 'binary', 'binding', 'blank', 'board', 'boost', 'branch', 'branding', 'bright', 'brio', 'brought', 'browse', 'browser', 'budget', 'budgeting', 'buffering', 'building', 'built', 'busiest', 'business', 'button', 'buyer', 'buying', 'cached', 'calculation', 'calendar', 'call', 'caller', 'campusconnect', 'cancel', 'cancellation', 'cannot', 'capability', 'capable', 'capacity', 'captured', 'car', 'card', 'cardholder', 'cardmember', 'case', 'category', 'cater', 'ccr', 'cd', 'ce', 'center', 'central', 'certain', 'certified', 'change', 'changing', 'character', 'chargeback', 'charged', 'chart', 'check', 'checking', 'chicago', 'choice', 'choiceparts', 'choose', 'chosen', 'circle', 'city', 'claim', 'class', 'clean', 'clear', 'click', 'client', 'clinical', 'clinicals', 'clock', 'closed', 'cma', 'code', 'coding', 'cohort', 'collaboration', 'collection', 'collision', 'colocated', 'color', 'come', 'comfortable', 'commissioner', 'common', 'communicate', 'communicating', 'communication', 'community', 'company', 'compatibility', 'compatible', 'compensatory', 'compile', 'complete', 'completed', 'completion', 'complex', 'compliance', 'comply', 'comprehensible', 'comprehensive', 'computer', 'concise', 'concurrency', 'concurrent', 'condition', 'conducted', 'conference', 'configurable', 'configuration', 'configure', 'confirm', 'confirmation', 'confirms', 'conform', 'connect', 'connection', 'conservative', 'consistent', 'consists', 'contact', 'contain', 'contained', 'containing', 'contains', 'content', 'continue', 'contract', 'control', 'convention', 'cooky', 'coordinator', 'copy', 'corporate', 'correct', 'corrected', 'corresponds', 'corrupted', 'country', 'crash', 'create', 'created', 'creates', 'creation', 'credit', 'criterion', 'csr', 'cst', 'current', 'currently', 'curriculum', 'customer', 'customizable', 'customization', 'customize', 'cybersource', 'cycle', 'daily', 'damaged', 'dashboard', 'data', 'database', 'datastream', 'date', 'day', 'db', 'dba', 'dbms', 'de', 'deadline', 'decreased', 'defect', 'defensive', 'define', 'defined', 'defining', 'degradation', 'delete', 'demand', 'denial', 'department', 'depaul', 'dependent', 'deployed', 'deployment', 'derived', 'describing', 'description', 'design', 'designated', 'designed', 'despite', 'detail', 'detailed', 'determine', 'determined', 'developed', 'developer', 'development', 'device', 'diagonally', 'different', 'differentiate', 'direct', 'direction', 'director', 'dirty', 'disability', 'disk', 'display', 'displayable', 'displayed', 'disputable', 'dispute', 'disputed', 'distance', 'distinguish', 'distinguishing', 'distributed', 'distribution', 'district', 'document', 'documentation', 'donalek', 'doubling', 'download', 'downloaded', 'downtime', 'dr', 'driving', 'drop', 'dropping', 'due', 'duplicate', 'duration', 'dynamic', 'eam', 'early', 'easily', 'easy', 'ee', 'efficiently', 'either', 'eleads', 'eligible', 'email', 'emerge', 'emerging', 'employee', 'empty', 'enable', 'encoded', 'encountered', 'encourage', 'encrypted', 'encryption', 'end', 'ended', 'ending', 'enet', 'english', 'enough', 'enrollment', 'ensure', 'ensures', 'ensuring', 'enter', 'entered', 'entering', 'enterprise', 'entity', 'entry', 'environment', 'eports', 'equipment', 'error', 'especially', 'est', 'established', 'estate', 'estimate', 'estimatics', 'estimator', 'ethnic', 'evaluation', 'even', 'event', 'every', 'exactly', 'examine', 'example', 'exceed', 'excel', 'exception', 'exchange', 'exercise', 'exist', 'existing', 'expected', 'expense', 'explanatory', 'explorer', 'export', 'exported', 'expressing', 'external', 'facilitate', 'facility', 'facitlity', 'faculty', 'fail', 'failure', 'fall', 'familiar', 'fashion', 'fast', 'faster', 'fault', 'feature', 'fee', 'feed', 'feedback', 'feel', 'file', 'filesystems', 'filter', 'filtered', 'final', 'finance', 'find', 'firefox', 'first', 'fit', 'five', 'flash', 'flow', 'follow', 'following', 'font', 'foot', 'foreign', 'form', 'format', 'formatted', 'formatting', 'formula', 'forth', 'found', 'fourth', 'frame', 'framework', 'free', 'french', 'friday', 'friendly', 'fully', 'fun', 'function', 'functionality', 'future', 'game', 'gateway', 'general', 'generate', 'generated', 'generation', 'get', 'give', 'given', 'go', 'grab', 'grant', 'granted', 'granularly', 'graph', 'graphical', 'gray', 'grid', 'group', 'grow', 'gui', 'guide', 'guideline', 'handle', 'handled', 'handling', 'happening', 'hard', 'hardware', 'held', 'help', 'hierarchy', 'high', 'higher', 'highest', 'highly', 'historical', 'history', 'hit', 'hitting', 'hoc', 'home', 'homeland', 'horizontally', 'hosted', 'hour', 'hsql', 'html', 'ibm', 'id', 'identify', 'identity', 'ie', 'image', 'immediate', 'implementation', 'inactive', 'include', 'included', 'includes', 'including', 'incorporate', 'incorrect', 'increase', 'increased', 'increasing', 'independent', 'independently', 'index', 'indicate', 'indicating', 'indicator', 'indivual', 'industry', 'infection', 'informally', 'information', 'informing', 'ingredient', 'initial', 'initiate', 'initiated', 'initiation', 'input', 'inquiring', 'inquiry', 'insert', 'install', 'installable', 'installation', 'installed', 'instruction', 'insurance', 'integrate', 'integrated', 'integration', 'integrity', 'intentional', 'interacting', 'interaction', 'interface', 'interference', 'internal', 'internet', 'interrupting', 'interruption', 'intranet', 'introduced', 'intuitive', 'intuitively', 'invalid', 'inventory', 'invitation', 'invite', 'involving', 'iqa', 'issuer', 'item', 'izogn', 'izognmovies', 'java', 'jboss', 'jointly', 'julie', 'karen', 'keep', 'keeping', 'kept', 'key', 'keyboard', 'kind', 'kpis', 'language', 'large', 'last', 'lasting', 'late', 'latency', 'later', 'latest', 'launch', 'law', 'lead', 'league', 'learn', 'learned', 'least', 'legible', 'less', 'let', 'letter', 'level', 'library', 'license', 'licensed', 'licensing', 'life', 'lifecycle', 'like', 'limit', 'limited', 'line', 'link', 'linux', 'list', 'listing', 'little', 'load', 'loaded', 'local', 'locale', 'locally', 'locate', 'located', 'location', 'log', 'logged', 'logging', 'login', 'logins', 'logo', 'logon', 'logons', 'long', 'longer', 'look', 'lotus', 'low', 'machine', 'made', 'mail', 'main', 'maintain', 'maintained', 'maintaining', 'maintenance', 'major', 'make', 'making', 'malicious', 'manage', 'managed', 'management', 'manager', 'managment', 'manner', 'manual', 'map', 'mark', 'marked', 'market', 'master', 'match', 'matrix', 'maximum', 'may', 'mb', 'mdi', 'mean', 'medium', 'meet', 'meeting', 'member', 'mentioned', 'menu', 'merchant', 'message', 'messaging', 'method', 'microsoft', 'middle', 'middleware', 'might', 'mile', 'million', 'min', 'minimum', 'minute', 'miss', 'missing', 'mistake', 'ml', 'mode', 'model', 'modern', 'modification', 'modifies', 'modify', 'modifying', 'monday', 'monitor', 'monitoring', 'month', 'morning', 'mouse', 'movie', 'mozilla', 'msn', 'multi', 'multiple', 'must', 'mysql', 'name', 'national', 'naturally', 'navigate', 'navigating', 'navigation', 'navigator', 'necessary', 'need', 'net', 'netscape', 'network', 'networked', 'neutral', 'new', 'next', 'nfl', 'nigeria', 'nigerian', 'nine', 'noisy', 'nomenclature', 'non', 'normal', 'noted', 'notification', 'notified', 'notify', 'notifying', 'novice', 'number', 'nursing', 'obtained', 'occur', 'occuring', 'occurred', 'occurrence', 'occurs', 'october', 'offensive', 'offer', 'offered', 'offering', 'office', 'offline', 'one', 'online', 'onsite', 'open', 'operate', 'operated', 'operating', 'operation', 'operational', 'option', 'oracle', 'order', 'organization', 'organizer', 'original', 'outage', 'outside', 'overcome', 'overhead', 'overlapping', 'override', 'owned', 'owner', 'oxley', 'packaged', 'page', 'paid', 'palm', 'paper', 'parallel', 'parameter', 'part', 'particular', 'party', 'pas', 'password', 'pattern', 'pause', 'pay', 'payment', 'pc', 'pcg', 'peak', 'pear', 'pending', 'people', 'per', 'percentage', 'perform', 'performance', 'performed', 'performing', 'period', 'periscope', 'permission', 'permitted', 'persisted', 'personal', 'personnel', 'pfe', 'phone', 'php', 'physical', 'pin', 'pixel', 'platform', 'player', 'plus', 'pm', 'pme', 'po', 'point', 'policy', 'poll', 'portal', 'portfolio', 'portion', 'position', 'positioned', 'poslusny', 'possibility', 'possible', 'post', 'posted', 'potential', 'practice', 'pre', 'predict', 'preference', 'preferred', 'prepaid', 'present', 'prevent', 'prevented', 'previous', 'previously', 'primarily', 'primary', 'print', 'printed', 'prior', 'privacy', 'private', 'priviledged', 'privilege', 'problem', 'process', 'processed', 'processing', 'produce', 'product', 'productivity', 'professional', 'program', 'programming', 'project', 'projected', 'projection', 'promotional', 'prompt', 'prompting', 'proof', 'properly', 'property', 'protect', 'protection', 'provide', 'provided', 'provides', 'purchase', 'purchased', 'purchasing', 'purged', 'purpose', 'quantity', 'quarter', 'quarterly', 'query', 'question', 'radius', 'range', 'rate', 'rating', 'rationale', 'reach', 'reaching', 'read', 'readable', 'real', 'realtor', 'reason', 'receipt', 'receive', 'received', 'receiving', 'recently', 'record', 'recorded', 'recourse', 'recovery', 'recreation', 'recycled', 'reduce', 'reflect', 'reflected', 'refresh', 'regard', 'regarding', 'region', 'register', 'registered', 'regular', 'regularly', 'regulation', 'rejection', 'related', 'relating', 'release', 'released', 'religious', 'remain', 'remaining', 'remember', 'reminder', 'remote', 'remove', 'rental', 'rep', 'repair', 'report', 'reported', 'reporting', 'request', 'requested', 'requesting', 'require', 'required', 'requirement', 'requiring', 'reservation', 'reserve', 'reserved', 'residing', 'resolution', 'resolve', 'resource', 'respective', 'respond', 'respondent', 'responds', 'response', 'responsive', 'rest', 'restore', 'restored', 'restricted', 'result', 'resulting', 'resume', 'retain', 'retrieval', 'retrieve', 'retrieved', 'return', 'returned', 'reveal', 'revenue', 'review', 'rf', 'right', 'rms', 'robust', 'role', 'room', 'routine', 'routing', 'royalty', 'rreports', 'rule', 'run', 'running', 'runtime', 'sale', 'sarbanes', 'satisfaction', 'satisfied', 'saturday', 'save', 'saved', 'scalability', 'scale', 'schedule', 'scheduled', 'scheduling', 'schema', 'scheme', 'school', 'score', 'scored', 'scoring', 'screen', 'script', 'se', 'sea', 'search', 'searching', 'season', 'second', 'secondary', 'section', 'secure', 'secured', 'security', 'segment', 'select', 'selected', 'selecting', 'selection', 'self', 'seller', 'semi', 'send', 'sent', 'separate', 'separately', 'sequence', 'server', 'service', 'session', 'set', 'setting', 'setup', 'seven', 'shall', 'ship', 'short', 'shot', 'show', 'showing', 'shown', 'sign', 'similar', 'simple', 'simulate', 'simultaneous', 'simultaneously', 'since', 'single', 'sinking', 'site', 'situation', 'six', 'skill', 'slot', 'software', 'solution', 'sorted', 'sound', 'source', 'space', 'spanish', 'specific', 'specification', 'specified', 'specify', 'spike', 'spreadsheet', 'sql', 'staff', 'standard', 'start', 'state', 'statement', 'statistic', 'status', 'stipulated', 'store', 'stored', 'storing', 'stream', 'streamed', 'streaming', 'street', 'structure', 'structured', 'student', 'study', 'submenu', 'submit', 'submitting', 'subscriber', 'substitutionary', 'subsystem', 'successfully', 'sum', 'summarize', 'summary', 'sunday', 'sunk', 'supervisor', 'supplied', 'supplier', 'supply', 'supplying', 'support', 'supported', 'supporting', 'survey', 'surveyed', 'susan', 'symbol', 'sync', 'synchronization', 'synchronize', 'sysol', 'system', 'systematic', 'table', 'take', 'taken', 'target', 'task', 'team', 'technical', 'technique', 'technology', 'teleservices', 'ten', 'terminal', 'terminology', 'test', 'tested', 'tester', 'testing', 'third', 'thought', 'threading', 'threat', 'three', 'throughout', 'ticket', 'time', 'timeline', 'timely', 'title', 'tolerance', 'toll', 'tomcat', 'tool', 'total', 'tracking', 'trade', 'trading', 'traffic', 'trail', 'training', 'transaction', 'translatable', 'translated', 'transmission', 'transmit', 'transmitted', 'transparent', 'transport', 'transportation', 'trial', 'tribe', 'turn', 'tv', 'two', 'type', 'typical', 'uas', 'unauthorized', 'unavailable', 'uncorrupted', 'undergo', 'understand', 'understandable', 'unique', 'unit', 'united', 'university', 'unknown', 'unless', 'unlimited', 'unreserved', 'untrained', 'upcoming', 'update', 'updated', 'upgrade', 'upon', 'uptime', 'us', 'usability', 'usage', 'use', 'used', 'user', 'username', 'using', 'utility', 'utilize', 'valid', 'validate', 'validation', 'validity', 'value', 'variety', 'various', 'vehicle', 'velkat', 'vendor', 'venue', 'verbiage', 'verification', 'verify', 'version', 'versus', 'vertical', 'vertically', 'via', 'vibrant', 'view', 'viewer', 'viewing', 'virus', 'volume', 'wait', 'want', 'washing', 'watch', 'wcs', 'web', 'website', 'wednesday', 'week', 'weekly', 'well', 'whenever', 'whether', 'window', 'within', 'without', 'word', 'work', 'working', 'workstation', 'would', 'xl', 'xml', 'xp', 'year', 'yellow', 'yet', 'zip', 'zipcode']\n"
          ]
        }
      ],
      "source": [
        "from sklearn.feature_extraction.text import CountVectorizer\n",
        "import numpy as np\n",
        "from sklearn.metrics.pairwise import cosine_similarity\n",
        "\n",
        "corpus = df['RequirementText'].tolist()\n",
        "cv = CountVectorizer(binary=True)\n",
        "X_bow = cv.fit_transform(corpus).toarray()\n",
        "\n",
        "np.set_printoptions(edgeitems=30, linewidth=100000, formatter=dict(float=lambda x: \"%.3g\" % x))\n",
        "print(X_bow)\n",
        "\n",
        "print(cv.vocabulary_)\n",
        "\n",
        "sorted_vocab_keys = sorted(cv.get_feature_names_out())\n",
        "bow_df = pd.DataFrame(X_bow, columns=sorted_vocab_keys)\n",
        "print(\"Vocabulary columns:\", sorted_vocab_keys)"
      ]
    },
    {
      "cell_type": "code",
      "execution_count": 27,
      "metadata": {
        "colab": {
          "base_uri": "https://localhost:8080/"
        },
        "id": "_e5D0geANySi",
        "outputId": "8d6677dd-9df3-4fbc-fade-8a169ea27a08"
      },
      "outputs": [
        {
          "name": "stdout",
          "output_type": "stream",
          "text": [
            "    class                                    RequirementText  \\\n",
            "0      PE          system shall refresh display every second   \n",
            "1      LF  application shall match color schema set forth...   \n",
            "2      US  projected data must readable x projection scre...   \n",
            "3       A  product shall available normal business hour l...   \n",
            "4      US  projected data must understandable x projectio...   \n",
            "..    ...                                                ...   \n",
            "669     O  system integrate multiple database management ...   \n",
            "670     O  system must installable operating environment ...   \n",
            "671    SE  system ensure company employee approved extern...   \n",
            "672    SE  manager able perform search query reservation ...   \n",
            "673    SE  system ensure database data corresponds exactl...   \n",
            "\n",
            "                                    SimilarRequirement  \n",
            "0            system refresh display every second (556)  \n",
            "1    application shall match color schema set forth...  \n",
            "2    projected data must legible x projection scree...  \n",
            "3    product available normal business hour ensurin...  \n",
            "4                                                 None  \n",
            "..                                                 ...  \n",
            "669                                               None  \n",
            "670                                               None  \n",
            "671                                               None  \n",
            "672                                               None  \n",
            "673                                               None  \n",
            "\n",
            "[674 rows x 3 columns]\n"
          ]
        }
      ],
      "source": [
        "from sklearn.metrics.pairwise import cosine_similarity\n",
        "df['SimilarRequirement'] = None\n",
        "\n",
        "for i in range(len(df)):\n",
        "    similar_reqs = []\n",
        "\n",
        "    for j in range(i + 1, len(df)):\n",
        "        cosine_sim = cosine_similarity([X_bow[i]], [X_bow[j]])[0][0]\n",
        "\n",
        "        if cosine_sim > 0.8:\n",
        "            similar_reqs.append(f\"{df['RequirementText'][j]} ({j})\")\n",
        "\n",
        "    if similar_reqs:\n",
        "        df.at[i, 'SimilarRequirement'] = ', '.join(similar_reqs)\n",
        "\n",
        "print(df[['class', 'RequirementText', 'SimilarRequirement']])"
      ]
    },
    {
      "cell_type": "code",
      "execution_count": null,
      "metadata": {
        "colab": {
          "base_uri": "https://localhost:8080/"
        },
        "id": "GeSHwpGqN3li",
        "outputId": "ac76aa30-9607-4ccb-acfd-5a3c4b90bd5f"
      },
      "outputs": [
        {
          "data": {
            "text/plain": [
              "63"
            ]
          },
          "execution_count": 41,
          "metadata": {},
          "output_type": "execute_result"
        }
      ],
      "source": [
        "df['SimilarRequirement'].count()"
      ]
    },
    {
      "cell_type": "code",
      "execution_count": null,
      "metadata": {
        "colab": {
          "base_uri": "https://localhost:8080/"
        },
        "id": "CPxTSlU5SHTp",
        "outputId": "e03cba22-8061-4b30-8221-85028b7ba0cc"
      },
      "outputs": [
        {
          "name": "stdout",
          "output_type": "stream",
          "text": [
            "[[0 0 0 0 0 0 0 0 0 0 0 0 0 0 0 0 0 0 0 0 0 0 0 0 0 0 0 0 0 0 ... 0 0 0 0 0 0 0 0 0 0 0 0 0 0 0 0 0 0 0 0 0 0 0 0 0 0 0 0 0 0]\n",
            " [0 0 0 0 0 0 0 0 0 0 0 0 0 0 0 0 0 0 0 0 0 0 0 0 0 0 0 0 0 0 ... 0 0 0 0 0 0 0 0 0 0 0 0 0 0 0 0 0 0 0 0 0 0 0 0 0 0 0 0 0 0]\n",
            " [0 0.145 0 0 0 0 0 0 0 0 0 0 0 0 0 0 0 0 0 0 0 0 0 0 0 0 0.239 0 0 0 ... 0 0 0 0 0 0 0 0 0 0 0 0 0 0 0 0 0 0 0 0 0 0 0 0 0 0 0 0 0 0]\n",
            " [0 0 0 0 0 0 0.181 0 0 0 0 0 0 0 0 0 0 0 0 0 0 0 0 0 0 0 0 0 0 0 ... 0 0 0 0 0 0 0 0 0 0 0 0 0 0 0 0 0 0 0 0 0 0 0 0 0 0 0 0 0 0]\n",
            " [0 0.14 0 0 0 0 0 0 0 0 0 0 0 0 0 0 0 0 0 0 0 0 0 0 0 0 0.231 0 0 0 ... 0 0 0 0 0 0 0 0 0 0 0 0 0 0 0 0 0 0 0 0 0 0 0 0 0 0 0 0 0 0]\n",
            " [0 0.165 0 0 0 0 0.205 0.314 0 0 0 0 0 0 0 0 0 0 0 0 0 0 0 0 0 0 0 0 0 0 ... 0 0 0 0 0 0 0 0 0 0 0 0 0 0 0 0 0 0 0 0 0 0 0 0 0 0 0 0 0 0]\n",
            " [0 0.174 0 0 0 0 0 0 0 0 0 0 0 0 0 0 0 0 0 0 0 0 0 0 0 0 0.286 0 0 0 ... 0 0 0 0 0 0 0 0 0 0 0 0 0 0 0 0.188 0 0 0 0 0 0 0 0 0 0 0 0 0 0]\n",
            " [0 0 0 0 0 0 0 0 0 0 0 0 0 0 0 0 0 0 0 0 0 0 0 0 0 0 0 0 0 0 ... 0 0 0 0 0 0 0 0 0 0 0 0 0 0 0 0 0 0 0 0 0 0 0 0 0 0 0 0 0 0]\n",
            " [0 0 0 0 0 0 0 0 0 0 0 0 0 0 0 0 0 0 0 0 0 0 0 0 0 0 0 0 0 0 ... 0 0 0 0 0 0 0 0 0 0 0 0 0 0 0 0 0 0 0 0 0 0 0 0 0 0 0 0 0 0]\n",
            " [0 0 0 0 0 0 0 0 0 0 0 0 0 0 0 0 0 0 0 0 0 0 0 0 0 0 0 0 0 0 ... 0 0 0 0 0 0 0 0 0 0 0 0 0 0 0 0 0 0 0 0 0 0 0 0 0 0 0 0 0 0]\n",
            " [0 0 0 0 0 0 0 0 0 0 0 0 0 0 0 0 0 0 0 0 0 0 0 0 0 0 0 0 0 0 ... 0 0 0 0 0 0 0 0 0 0 0 0 0 0 0 0 0 0 0 0 0 0 0 0 0 0 0 0 0 0]\n",
            " [0 0 0 0 0 0 0 0 0 0 0 0 0 0 0 0 0 0 0 0 0 0 0 0 0 0 0 0 0 0 ... 0 0 0 0 0 0 0 0 0 0 0 0 0 0 0 0 0 0 0 0 0 0 0 0 0 0 0 0 0 0]\n",
            " [0 0 0 0 0 0 0 0 0 0 0 0 0 0 0 0 0 0 0 0 0 0 0.175 0 0 0 0 0 0 0 ... 0 0 0 0 0 0 0 0 0 0 0 0 0 0 0 0 0 0 0 0 0 0 0 0 0 0 0 0 0 0]\n",
            " [0 0 0 0 0 0 0 0 0 0 0 0 0 0 0 0 0 0 0 0 0 0 0.296 0 0 0 0 0 0 0 ... 0 0 0 0 0 0 0 0 0 0 0 0 0 0 0 0 0 0 0 0 0 0 0 0 0 0 0 0 0 0]\n",
            " [0 0 0 0 0 0 0 0 0.484 0 0 0 0 0 0 0 0 0 0 0 0 0 0 0 0 0 0 0 0 0 ... 0 0 0 0 0 0 0 0 0 0 0 0 0 0 0 0 0 0 0 0 0 0 0 0 0 0 0 0 0 0]\n",
            " [0 0 0 0 0 0 0 0 0 0.368 0 0 0 0 0 0 0 0 0 0 0 0 0 0 0 0 0 0 0 0 ... 0 0 0 0 0 0 0 0 0 0 0 0 0 0 0 0 0 0 0 0 0 0 0 0 0 0 0 0 0 0]\n",
            " [0 0 0 0 0 0 0 0 0 0 0 0 0 0 0 0 0 0 0 0 0 0 0 0 0 0 0 0 0 0 ... 0 0 0 0 0 0 0 0 0 0 0 0 0 0 0 0 0 0 0 0 0 0 0 0 0 0 0 0 0 0]\n",
            " [0 0 0 0 0 0 0.213 0 0 0 0 0 0 0 0 0 0 0 0 0 0 0 0.268 0 0 0 0 0 0 0 ... 0 0 0 0 0 0 0 0 0 0 0 0 0 0 0 0 0 0 0 0 0 0 0 0 0 0 0 0 0 0]\n",
            " [0 0 0 0 0 0 0.304 0 0 0 0 0 0 0 0 0 0 0 0 0 0 0 0 0 0 0 0 0 0 0 ... 0 0 0 0 0 0 0 0 0 0 0 0 0 0 0 0 0 0 0 0 0 0 0 0 0 0 0 0 0 0]\n",
            " [0 0 0 0 0 0 0.302 0 0 0 0 0 0 0 0 0 0 0 0 0 0 0 0 0 0 0 0 0 0 0 ... 0 0 0 0 0 0 0 0 0 0 0 0 0 0 0 0 0 0 0 0 0 0 0 0 0 0 0 0 0 0]\n",
            " [0 0 0 0 0 0 0 0 0 0 0 0 0 0 0 0 0 0 0 0 0 0 0 0 0 0 0 0 0 0 ... 0 0 0 0 0 0 0 0 0 0 0 0 0 0 0 0 0 0 0 0 0 0 0 0 0 0 0 0 0 0]\n",
            " [0.244 0 0 0 0 0 0 0 0 0 0 0 0 0 0 0 0 0 0 0 0 0 0 0 0 0 0 0 0 0 ... 0 0 0 0 0 0 0 0 0 0 0 0 0 0 0 0 0 0 0 0 0 0 0 0 0 0 0 0 0 0]\n",
            " [0.12 0 0 0 0 0 0 0 0 0 0 0 0 0 0 0 0 0 0 0 0 0 0 0 0 0 0 0 0 0 ... 0 0 0 0 0 0 0 0 0 0 0 0 0 0 0 0 0 0 0 0 0 0 0 0 0 0 0 0 0 0]\n",
            " [0 0 0 0 0 0 0 0 0 0 0 0 0 0 0 0 0 0 0 0 0 0 0 0 0 0 0 0 0 0 ... 0 0 0 0 0 0 0 0 0 0 0 0 0 0 0 0 0 0 0 0 0 0.15 0 0 0 0 0 0 0 0]\n",
            " [0 0 0 0 0 0 0 0 0 0 0 0 0 0 0 0 0 0 0 0 0 0 0 0 0 0 0 0 0 0 ... 0 0 0 0 0 0 0 0 0 0 0 0 0 0 0 0 0 0 0 0 0 0 0 0 0 0 0 0 0 0]\n",
            " [0 0 0 0 0 0 0 0 0 0 0 0 0 0 0 0 0 0 0 0 0 0 0 0 0 0 0 0 0 0 ... 0 0 0 0 0 0 0 0 0 0 0 0 0 0 0 0 0 0 0 0 0 0 0 0 0 0 0 0 0 0]\n",
            " [0 0 0 0 0 0 0 0 0 0 0 0 0 0 0 0.134 0 0 0 0 0 0 0 0 0 0 0 0 0 0 ... 0 0 0 0 0 0 0 0 0 0 0 0 0 0 0 0 0 0 0 0 0 0 0 0 0 0 0 0 0 0]\n",
            " [0 0 0 0 0 0 0 0 0 0 0 0 0 0 0 0 0 0 0 0 0 0 0 0 0 0 0 0 0 0 ... 0 0 0 0 0 0 0 0 0 0 0 0 0 0 0 0 0 0 0 0 0 0 0 0 0 0 0 0 0 0]\n",
            " [0 0 0 0 0 0 0 0 0 0 0 0 0 0 0 0 0 0 0 0 0 0 0 0 0 0 0 0 0 0 ... 0 0 0 0 0 0 0 0 0 0 0 0 0 0 0 0 0 0 0 0 0 0 0 0 0 0 0 0 0 0]\n",
            " [0 0 0 0 0 0 0 0 0 0 0 0 0 0.179 0 0 0 0.184 0 0 0 0 0 0 0 0 0 0 0 0 ... 0 0 0 0 0 0 0 0 0 0 0 0 0 0 0 0 0 0 0 0 0 0 0 0 0 0 0 0 0 0]\n",
            " ...\n",
            " [0 0 0 0 0 0 0 0 0 0 0 0 0 0 0 0 0 0 0 0 0 0 0 0 0 0 0 0 0 0 ... 0 0 0 0 0 0 0 0 0 0 0 0 0 0 0 0 0 0 0 0 0 0 0 0 0 0 0 0 0 0]\n",
            " [0 0.311 0 0 0 0 0 0 0 0 0 0 0 0 0 0 0 0 0 0 0 0 0 0 0 0 0 0 0 0 ... 0 0 0 0 0 0 0 0 0 0 0 0 0 0 0 0.168 0 0 0 0 0 0 0 0 0 0 0 0 0 0]\n",
            " [0 0 0 0 0 0 0 0 0 0 0 0 0 0 0 0 0 0 0 0 0 0 0 0 0 0 0 0 0 0 ... 0 0 0 0 0 0 0.389 0 0 0 0 0 0 0 0 0 0 0 0 0 0 0 0 0 0 0 0 0 0 0]\n",
            " [0 0.259 0 0 0 0 0 0 0 0 0 0 0 0 0 0 0 0 0 0 0 0 0 0 0 0 0 0 0 0 ... 0 0 0 0 0 0 0 0 0 0 0 0 0 0 0 0 0 0 0 0 0 0 0 0 0 0 0 0 0 0]\n",
            " [0 0 0 0 0 0 0 0 0 0 0 0 0 0 0 0 0 0 0 0 0 0.494 0 0 0 0 0 0 0 0 ... 0 0 0 0 0 0 0 0 0 0 0 0 0 0 0 0 0 0 0 0 0 0 0 0 0 0 0 0 0 0]\n",
            " [0 0 0 0 0 0 0 0 0 0 0 0 0 0 0 0 0 0 0 0 0 0 0 0 0 0 0 0 0 0 ... 0 0 0 0 0 0 0 0 0 0 0 0 0 0 0 0.336 0 0 0 0 0 0 0 0 0 0 0 0 0 0]\n",
            " [0 0 0 0 0 0 0 0 0 0 0 0 0 0 0 0 0 0 0.423 0 0 0 0 0 0 0 0 0 0 0 ... 0 0 0 0 0 0 0 0 0 0 0 0 0 0 0 0 0 0 0 0 0 0 0 0 0 0 0 0 0 0]\n",
            " [0 0 0 0 0 0 0 0 0 0 0 0 0 0 0 0 0 0 0 0 0 0 0 0 0 0 0 0 0 0 ... 0 0 0 0 0 0 0 0 0 0 0 0 0 0 0 0 0 0 0 0 0 0 0 0 0 0 0 0 0 0]\n",
            " [0 0 0 0 0 0 0 0 0 0 0 0 0 0 0 0 0 0 0 0 0 0 0 0 0 0 0 0 0 0 ... 0 0 0 0 0 0 0 0 0 0 0 0 0 0 0 0 0 0 0 0 0 0 0 0 0 0 0 0 0 0]\n",
            " [0 0 0 0 0 0 0 0 0 0 0 0 0 0 0 0 0 0 0 0 0 0 0 0 0 0 0 0 0 0 ... 0 0 0 0 0 0 0 0 0 0 0 0 0 0 0 0.154 0 0 0 0 0 0 0 0 0 0.206 0 0 0 0]\n",
            " [0 0 0 0 0 0 0 0 0 0 0 0 0 0 0 0 0 0 0 0 0 0 0 0 0 0 0 0 0 0 ... 0 0 0 0 0 0 0 0 0 0 0 0 0 0 0 0 0 0 0 0 0 0 0 0 0 0.301 0 0 0 0]\n",
            " [0 0 0 0 0 0 0 0 0 0 0 0 0 0 0 0 0 0 0 0 0 0 0 0 0 0 0 0 0 0 ... 0 0 0 0 0 0 0 0 0 0 0 0 0 0 0 0 0 0 0 0 0 0 0 0 0 0 0 0 0 0]\n",
            " [0 0 0 0 0 0 0 0 0 0 0 0 0 0 0 0 0 0 0 0 0 0 0 0 0 0 0 0 0 0 ... 0 0 0 0 0 0 0 0 0 0 0 0 0 0 0 0 0 0 0 0 0 0 0 0 0 0 0 0 0 0]\n",
            " [0 0 0 0 0 0 0 0 0 0 0 0 0 0 0 0 0 0 0 0 0 0 0 0 0 0 0 0 0 0 ... 0 0 0 0 0 0 0 0 0 0 0 0 0 0 0 0 0 0 0 0 0 0 0 0 0 0 0 0 0 0]\n",
            " [0 0 0 0 0 0 0 0 0 0 0 0 0 0 0 0 0 0 0 0 0 0 0 0 0 0 0 0 0 0 ... 0 0 0 0 0 0 0 0 0 0 0 0 0 0 0 0 0 0 0 0 0 0 0 0 0 0 0 0 0 0]\n",
            " [0 0 0 0 0 0 0 0 0 0 0 0 0 0 0 0 0 0 0 0 0 0 0 0 0 0 0 0 0 0 ... 0 0 0 0 0 0 0 0 0 0 0 0 0 0 0 0 0 0 0 0 0 0 0 0 0 0 0 0 0.437 0]\n",
            " [0 0 0 0 0 0 0 0 0 0 0 0 0 0 0 0 0 0 0 0 0 0 0 0 0 0 0 0 0 0 ... 0 0 0 0 0 0 0 0 0 0 0 0 0 0 0 0 0 0 0 0 0 0 0 0 0 0 0 0 0 0]\n",
            " [0 0 0 0 0 0 0 0 0 0 0 0 0 0 0 0 0 0 0 0 0 0 0 0 0 0 0 0 0 0 ... 0 0 0 0 0 0 0 0 0 0 0 0 0 0 0 0 0 0 0 0 0 0 0 0 0 0 0 0 0 0]\n",
            " [0 0 0 0 0 0 0 0 0 0 0 0 0 0 0 0 0 0 0 0 0 0 0 0 0 0 0 0 0 0 ... 0 0 0 0 0 0 0 0 0 0 0 0 0 0 0 0.441 0 0 0 0 0 0 0 0 0 0 0 0 0 0]\n",
            " [0 0 0 0 0 0 0 0 0 0 0 0 0 0 0 0 0 0 0 0 0 0 0 0 0 0 0 0 0 0 ... 0 0 0 0 0 0 0 0 0 0 0 0 0 0 0 0.148 0 0 0 0.28 0 0 0 0 0 0 0 0 0 0]\n",
            " [0 0.153 0 0 0 0 0 0 0 0 0 0 0 0 0 0 0 0 0 0 0 0 0 0 0 0 0 0 0 0 ... 0 0 0 0 0 0 0 0 0 0 0 0 0 0 0 0 0.252 0 0 0 0 0 0 0 0 0 0 0 0 0]\n",
            " [0 0.185 0 0 0 0 0 0 0 0 0 0 0 0 0 0 0 0 0 0 0 0 0 0 0 0 0 0 0 0 ... 0 0 0 0 0 0 0 0 0 0 0 0 0 0 0 0 0 0 0 0 0 0 0 0 0 0 0 0 0 0]\n",
            " [0 0 0 0 0 0 0.205 0 0 0 0 0 0 0 0 0 0 0 0 0 0 0 0 0 0 0 0 0 0 0 ... 0 0 0 0 0 0 0 0 0 0 0 0 0 0 0 0.179 0 0 0 0 0 0 0 0 0 0 0 0 0 0]\n",
            " [0 0 0 0 0 0 0 0 0 0 0 0 0 0 0 0 0 0 0 0 0 0 0 0 0 0 0 0 0 0 ... 0 0 0 0 0 0 0 0 0 0 0 0 0 0 0 0 0 0 0 0 0 0 0 0 0 0 0 0 0 0]\n",
            " [0 0 0 0 0 0 0 0 0 0 0 0 0 0 0 0 0 0 0 0 0 0 0 0 0 0 0 0 0 0 ... 0 0 0 0 0 0 0 0 0 0 0 0 0 0 0 0 0 0 0 0 0 0 0 0 0 0 0 0 0 0]\n",
            " [0 0 0 0 0 0 0.199 0 0 0 0 0 0 0 0 0 0 0 0 0 0 0 0 0 0 0 0 0 0 0 ... 0 0 0 0 0 0 0 0 0 0 0 0 0 0 0 0 0 0 0 0 0 0 0 0 0 0 0 0 0 0]\n",
            " [0 0 0 0 0 0 0 0 0 0 0 0 0 0 0 0 0 0 0 0 0 0 0 0 0 0 0 0 0 0 ... 0 0 0 0 0 0 0 0 0 0 0 0 0 0 0 0.253 0 0 0 0 0 0 0 0 0 0 0 0 0 0]\n",
            " [0 0 0 0 0 0 0.238 0 0 0 0 0 0 0 0 0 0 0 0 0 0 0 0 0 0 0 0 0 0 0 ... 0 0 0 0 0 0 0 0 0 0 0 0 0 0 0 0 0 0 0 0 0 0 0 0 0 0 0 0 0 0]\n",
            " [0 0.159 0 0 0 0 0 0 0 0 0 0 0 0 0 0 0 0 0 0 0 0 0 0 0 0 0 0 0 0 ... 0 0 0 0 0 0 0 0 0 0 0 0 0 0 0 0 0 0 0 0 0 0 0 0 0 0 0 0 0 0]\n",
            " [0 0 0 0 0 0 0 0 0 0 0 0 0 0 0 0 0 0 0 0 0 0 0 0 0 0 0 0 0 0 ... 0 0 0 0 0 0 0 0 0 0 0 0 0 0 0 0 0 0 0 0 0 0 0 0 0 0 0 0 0 0]]\n",
            "{'system': 1193, 'shall': 1111, 'refresh': 983, 'display': 360, 'every': 438, 'second': 1085, 'application': 86, 'match': 723, 'color': 230, 'schema': 1072, 'set': 1107, 'forth': 497, 'department': 331, 'homeland': 553, 'security': 1090, 'projected': 934, 'data': 311, 'must': 771, 'readable': 965, 'projection': 935, 'screen': 1078, 'viewer': 1303, 'able': 1, 'read': 964, 'event': 437, 'activity': 26, 'viewing': 1304, 'distance': 366, 'product': 928, 'available': 128, 'normal': 796, 'business': 166, 'hour': 556, 'long': 694, 'user': 1277, 'access': 6, 'client': 217, 'pc': 858, 'time': 1219, 'first': 482, 'six': 1129, 'month': 763, 'operation': 825, 'understandable': 1256, 'determine': 345, 'occuring': 807, 'current': 299, 'ensure': 414, 'accessed': 7, 'authorized': 122, 'distinguish': 367, 'unauthorized': 1251, 'attempt': 110, 'intuitive': 619, 'self': 1096, 'explanatory': 451, 'new': 787, 'start': 1148, 'within': 1321, 'minute': 748, 'using': 1279, 'respond': 1025, 'fast': 466, 'keep': 636, 'date': 314, 'mdi': 728, 'form': 492, 'allows': 64, 'graph': 525, 'table': 1195, 'vertical': 1298, 'rule': 1056, 'specified': 1141, 'dispute': 364, 'compliance': 248, 'guideline': 533, 'regulation': 991, 'maintain': 703, 'detailed': 344, 'history': 548, 'action': 22, 'take': 1196, 'case': 187, 'ensures': 415, 'complete': 244, 'audit': 115, 'trail': 1232, 'question': 956, 'arise': 98, 'later': 649, 'regard': 984, 'particular': 850, 'modify': 758, 'existing': 448, 'recorded': 975, 'accessible': 8, 'internal': 613, 'external': 456, 'prevent': 910, 'accessing': 9, 'belong': 143, 'cardholder': 185, 'base': 136, 'facilitate': 457, 'direct': 354, 'entry': 422, 'via': 1300, 'interface': 611, 'support': 1182, 'real': 966, 'response': 1028, 'provide': 944, 'different': 352, 'level': 662, 'initiation': 593, 'follow': 487, 'view': 1302, 'capability': 179, 'update': 1267, 'allow': 61, 'select': 1092, 'disputable': 363, 'transaction': 1234, 'based': 137, 'age': 52, 'initiate': 591, 'ticket': 1218, 'retrieval': 1038, 'request': 1010, 'chargeback': 200, 'notification': 798, 'selected': 1093, 'ability': 0, 'single': 1125, 'multiple': 770, 'merchant': 736, 'create': 291, 'part': 849, 'creation': 294, 'process': 924, 'prompt': 937, 'enter': 417, 'required': 1014, 'information': 587, 'document': 372, 'sent': 1100, 'inquiring': 595, 'validity': 1285, 'three': 1216, 'unique': 1257, 'type': 1248, 'original': 832, 'receipt': 969, 'copy': 283, 'portfolio': 893, 'consists': 270, 'documentation': 373, 'would': 1327, 'proof': 939, 'purchase': 947, 'received': 971, 'car': 183, 'rental': 1004, 'agency': 53, 'sale': 1060, 'requesting': 1012, 'restricted': 1033, 'confirmation': 263, 'upon': 1270, 'contains': 275, 'following': 488, 'number': 803, 'requested': 1011, 'due': 383, 'result': 1034, 'printed': 917, 'indicating': 581, 'account': 15, 'charged': 201, 'back': 133, 'provided': 945, 'disputed': 365, 'valid': 1282, 'contain': 272, 'pending': 862, 'immediate': 565, 'duplicate': 384, 'accurately': 17, 'list': 675, 'possible': 899, 'reason': 968, 'code': 223, 'given': 519, 'derived': 336, 'industry': 584, 'belongs': 144, 'according': 13, 'defined': 325, 'search': 1082, 'functionality': 509, 'method': 739, 'include': 568, 'cardmember': 186, 'issuer': 627, 'addition': 32, 'criterion': 296, 'limit': 670, 'range': 958, 'status': 1152, 'open': 821, 'closed': 221, 'meet': 731, 'entered': 418, 'differentiate': 353, 'coding': 224, 'line': 672, 'item': 628, 'example': 441, 'yellow': 1332, 'gray': 527, 'occurred': 808, 'filtered': 477, 'record': 974, 'name': 773, 'creates': 293, 'modifies': 757, 'taken': 1197, 'including': 571, 'performed': 868, 'maintained': 704, 'auditing': 116, 'purpose': 951, 'systematic': 1194, 'non': 795, 'initiated': 592, 'occurs': 810, 'aging': 56, 'generated': 515, 'next': 788, 'logon': 692, 'notified': 799, 'letter': 661, 'formatted': 494, 'print': 916, 'utility': 1280, 'purged': 950, 'online': 819, 'database': 312, 'internet': 614, 'explorer': 452, 'mozilla': 767, 'firefox': 481, 'choice': 206, 'provides': 946, 'feed': 471, 'recycled': 979, 'run': 1057, 'hardware': 539, 'environment': 423, 'adhere': 36, 'corporate': 284, 'architecture': 96, 'comply': 249, 'scheme': 1073, 'appearance': 84, 'appear': 83, 'professional': 930, 'software': 1132, 'expected': 449, 'window': 1320, 'linux': 674, 'platform': 883, 'easy': 390, 'use': 1275, 'adjuster': 39, 'collision': 228, 'estimator': 433, 'find': 480, 'increase': 574, 'productivity': 929, 'agree': 57, 'feel': 473, 'satisfied': 1063, 'learn': 655, 'learned': 656, 'two': 1247, 'day': 315, 'onsite': 820, 'training': 1233, 'easily': 389, 'locate': 683, 'instruction': 602, 'help': 541, 'found': 498, 'longer': 695, 'returned': 1042, 'preferred': 907, 'repair': 1006, 'facility': 458, 'report': 1007, 'rating': 960, 'saved': 1066, 'save': 1065, 'occur': 806, 'availability': 127, 'schedule': 1069, 'brought': 157, 'scheduled': 1070, 'outage': 833, 'per': 864, 'achieve': 18, 'uptime': 1271, 'fail': 461, 'handle': 534, 'simultaneous': 1122, 'perform': 866, 'average': 129, 'concurrent': 255, 'year': 1331, 'initial': 590, 'launch': 651, 'operated': 823, 'dirty': 357, 'noisy': 793, 'condition': 256, 'choiceparts': 207, 'approximately': 94, 'maintenance': 706, 'fall': 463, 'established': 429, 'supported': 1183, 'center': 193, 'installation': 600, 'upgrade': 1269, 'handled': 535, 'middleware': 742, 'technology': 1203, 'team': 1200, 'frame': 500, 'without': 1322, 'role': 1050, 'supervisor': 1177, 'cannot': 178, 'invalid': 621, 'one': 818, 'insurance': 603, 'company': 239, 'another': 76, 'claim': 212, 'free': 502, 'computer': 252, 'virus': 1305, 'malicious': 710, 'attack': 109, 'denial': 330, 'service': 1105, 'sarbanes': 1061, 'oxley': 841, 'estimatics': 432, 'law': 652, 'relating': 994, 'usage': 1274, 'regarding': 985, 'processing': 926, 'vehicle': 1289, 'location': 685, 'radius': 957, 'mile': 744, 'make': 708, 'model': 754, 'street': 1160, 'address': 34, 'city': 211, 'state': 1149, 'zipcode': 1335, 'resolve': 1022, 'unknown': 1261, 'highest': 545, 'input': 594, 'estimate': 431, 'assignment': 105, 'override': 838, 'facitlity': 459, 'return': 1041, 'determined': 346, 'damaged': 309, 'supplier': 1179, 'supplied': 1178, 'retain': 1037, 'apply': 88, 'review': 1045, 'retrieved': 1040, 'generate': 514, 'total': 1227, 'used': 1276, 'percentage': 865, 'score': 1075, 'sum': 1172, 'indivual': 583, 'displayed': 362, 'point': 889, 'blank': 150, 'yet': 1333, 'scale': 1068, 'category': 188, 'attempted': 111, 'actual': 28, 'work': 1324, 'management': 713, 'dbms': 318, 'market': 721, 'whether': 1319, 'colocated': 229, 'machine': 699, 'located': 684, 'network': 784, 'function': 508, 'alongside': 66, 'server': 1104, 'operating': 824, 'java': 631, 'runtime': 1059, 'installed': 601, 'require': 1013, 'collaboration': 226, 'may': 726, 'separate': 1101, 'residing': 1020, 'web': 1312, 'source': 1136, 'apache': 79, 'tomcat': 1225, 'jboss': 632, 'oracle': 828, 'db': 316, 'mysql': 772, 'hsql': 557, 'need': 781, 'integrated': 605, 'look': 696, 'incorporate': 572, 'aspect': 102, 'customer': 302, 'organization': 830, 'logo': 691, 'branding': 154, 'identity': 562, 'conservative': 268, 'want': 1308, 'surveyed': 1186, 'regularly': 990, 'week': 1315, 'post': 900, 'successfully': 1171, 'reserve': 1018, 'conference': 258, 'room': 1051, 'give': 518, 'feedback': 472, 'necessary': 780, 'confirms': 264, 'chosen': 209, 'language': 643, 'target': 1198, 'country': 289, 'customization': 304, 'page': 843, 'preference': 906, 'employee': 399, 'informally': 586, 'navigating': 777, 'less': 659, 'setup': 1109, 'meeting': 732, 'standard': 1147, 'navigation': 778, 'menu': 735, 'familiar': 464, 'searching': 1083, 'conform': 265, 'american': 69, 'disability': 358, 'act': 21, 'enough': 412, 'avoid': 130, 'interrupting': 615, 'flow': 486, 'thought': 1213, 'task': 1199, 'aside': 100, 'failure': 462, 'exception': 444, 'log': 686, 'problem': 923, 'encountered': 403, 'transmission': 1237, 'analysis': 71, 'resolution': 1021, 'capable': 180, 'handling': 536, 'release': 995, 'concurrency': 254, 'capacity': 181, 'peak': 860, 'scheduling': 1071, 'early': 388, 'morning': 764, 'late': 647, 'afternoon': 51, 'operate': 822, 'least': 657, 'office': 816, 'html': 558, 'browser': 159, 'transmit': 1238, 'properly': 940, 'tested': 1209, 'minimum': 747, 'test': 1208, 'various': 1288, 'communicate': 235, 'email': 396, 'send': 1099, 'distribution': 370, 'binary': 148, 'zip': 1334, 'file': 474, 'packaged': 842, 'cd': 191, 'licensing': 666, 'five': 484, 'license': 664, 'added': 31, 'designed': 341, 'design': 339, 'pattern': 854, 'best': 145, 'practice': 903, 'developer': 348, 'integrate': 604, 'working': 1325, 'highly': 546, 'configurable': 259, 'end': 407, 'changing': 198, 'offered': 814, 'install': 598, 'registered': 988, 'site': 1127, 'solution': 1133, 'building': 163, 'map': 718, 'throughout': 1217, 'lifecycle': 668, 'integration': 606, 'little': 677, 'staff': 1146, 'translated': 1236, 'foreign': 491, 'future': 510, 'emerging': 398, 'configure': 261, 'sql': 1145, 'approved': 93, 'id': 560, 'logons': 693, 'either': 393, 'manager': 714, 'query': 955, 'reservation': 1017, 'corresponds': 287, 'adjacent': 37, 'remain': 998, 'uncorrupted': 1253, 'dependent': 333, 'filesystems': 475, 'operational': 826, 'crash': 290, 'receive': 970, 'automatic': 125, 'threat': 1215, 'emerge': 397, 'transmitted': 1239, 'accommodate': 10, 'survey': 1185, 'respondent': 1026, 'acceptable': 4, 'calendar': 172, 'locale': 681, 'formatting': 495, 'correct': 285, 'developed': 347, 'se': 1080, 'ee': 391, 'programming': 932, 'library': 663, 'notify': 800, 'invitation': 623, 'reminder': 1001, 'assign': 103, 'organizer': 831, 'contact': 271, 'acknowledgement': 19, 'store': 1154, 'delete': 328, 'equipment': 425, 'invite': 624, 'reserved': 1019, 'updated': 1268, 'reflect': 981, 'transportation': 1242, 'showing': 1116, 'agenda': 54, 'parameter': 848, 'personnel': 876, 'transport': 1241, 'priviledged': 921, 'reporting': 1009, 'kind': 641, 'customizable': 303, 'unreserved': 1264, 'recreation': 978, 'inventory': 622, 'quantity': 952, 'adjustment': 40, 'period': 870, 'previous': 912, 'min': 746, 'utilize': 1281, 'currently': 300, 'owned': 839, 'automatically': 126, 'backup': 134, 'restore': 1031, 'demand': 329, 'consistent': 269, 'change': 197, 'password': 853, 'permission': 872, 'affect': 46, 'granularly': 524, 'control': 279, 'right': 1047, 'major': 707, 'subsystem': 1170, 'independently': 578, 'applicable': 85, 'accounting': 16, 'final': 478, 'version': 1296, 'pas': 852, 'independent': 577, 'certified': 196, 'auditor': 117, 'additional': 33, 'third': 1212, 'party': 851, 'resulting': 1035, 'royalty': 1054, 'fee': 470, 'generation': 516, 'since': 1124, 'certain': 195, 'iqa': 626, 'adjust': 38, 'substitutionary': 1169, 'ingredient': 589, 'accordingly': 14, 'entering': 419, 'storing': 1156, 'modifying': 759, 'formula': 496, 'semi': 1098, 'defining': 326, 'pfe': 877, 'kept': 638, 'persisted': 874, 'order': 829, 'po': 888, 'terminal': 1206, 'pme': 887, 'keeping': 637, 'submenu': 1165, 'managed': 712, 'exist': 447, 'rms': 1048, 'xp': 1330, 'gui': 531, 'making': 709, 'daily': 308, 'administrator': 42, 'activate': 23, 'pre': 904, 'paid': 844, 'card': 184, 'administration': 41, 'section': 1087, 'check': 203, 'prepaid': 908, 'pin': 881, 'let': 660, 'register': 987, 'website': 1313, 'pay': 856, 'go': 520, 'unlimited': 1263, 'movie': 766, 'subscriber': 1168, 'cancel': 176, 'mark': 719, 'inactive': 567, 'de': 319, 'add': 30, 'remove': 1003, 'stored': 1155, 'izogn': 629, 'statistic': 1151, 'excel': 443, 'attractive': 113, 'audience': 114, 'fun': 507, 'bright': 155, 'vibrant': 1301, 'african': 49, 'alienate': 59, 'animation': 73, 'describing': 337, 'grab': 521, 'attention': 112, 'encourage': 404, 'sign': 1118, 'modern': 755, 'clean': 214, 'concise': 253, 'novice': 802, 'navigate': 776, 'maximum': 725, 'streaming': 1159, 'click': 216, 'logging': 688, 'anonymous': 75, 'show': 1115, 'comfortable': 232, 'purchasing': 949, 'buying': 169, 'skill': 1130, 'watch': 1310, 'symbol': 1188, 'word': 1323, 'naturally': 775, 'convention': 280, 'interacting': 609, 'automated': 124, 'unless': 1262, 'noted': 797, 'credit': 295, 'buffering': 162, 'plus': 885, 'latency': 648, 'connection': 267, 'secured': 1089, 'encrypted': 405, 'streamed': 1158, 'continue': 277, 'payment': 857, 'gateway': 512, 'supporting': 1184, 'budget': 160, 'ie': 563, 'netscape': 783, 'cybersource': 306, 'api': 80, 'fully': 506, 'msn': 768, 'tv': 1246, 'encoded': 402, 'medium': 730, 'player': 884, 'stream': 1157, 'promotional': 936, 'listing': 676, 'toll': 1224, 'answer': 77, 'common': 234, 'velkat': 1290, 'phone': 878, 'pm': 886, 'technical': 1201, 'purchased': 948, 'corrupted': 288, 'incorrect': 573, 'protect': 942, 'intentional': 608, 'abuse': 2, 'occurrence': 809, 'integrity': 607, 'script': 1079, 'weekly': 1316, 'basis': 139, 'verify': 1295, 'aware': 132, 'collection': 227, 'privacy': 919, 'policy': 890, 'reveal': 1043, 'private': 920, 'secure': 1088, 'anti': 78, 'infection': 585, 'cater': 189, 'tribe': 1244, 'nigeria': 790, 'offensive': 812, 'religious': 997, 'ethnic': 434, 'group': 529, 'appeal': 81, 'nigerian': 791, 'flash': 485, 'home': 552, 'izognmovies': 630, 'requirement': 1015, 'appropriate': 90, 'php': 879, 'pear': 861, 'title': 1222, 'actor': 27, 'director': 356, 'detail': 343, 'description': 338, 'authorize': 121, 'allowing': 63, 'aftere': 50, 'browse': 158, 'approve': 92, 'posted': 901, 'value': 1286, 'mail': 701, 'option': 827, 'main': 702, 'friday': 504, 'latest': 650, 'billing': 147, 'distributed': 369, 'paper': 846, 'trial': 1243, 'logged': 687, 'even': 436, 'owner': 840, 'lead': 653, 'cycle': 307, 'completed': 245, 'volume': 1306, 'cst': 298, 'evaluation': 435, 'processed': 925, 'duration': 385, 'fit': 483, 'auto': 123, 'rep': 1005, 'assigned': 104, 'life': 667, 'washing': 1309, 'physical': 880, 'structure': 1161, 'binding': 149, 'neutral': 786, 'format': 493, 'xml': 1329, 'receiving': 972, 'defect': 322, 'unit': 1258, 'vendor': 1291, 'submit': 1166, 'validation': 1284, 'applied': 87, 'enterprise': 420, 'scored': 1076, 'high': 543, 'supply': 1180, 'validate': 1283, 'insert': 597, 'captured': 182, 'ara': 95, 'manual': 717, 'verification': 1294, 'enrollment': 413, 'coordinator': 282, 'eleads': 394, 'low': 698, 'supplying': 1181, 'compile': 243, 'academic': 3, 'scoring': 1077, 'school': 1074, 'along': 65, 'rejection': 992, 'authentication': 119, 'potential': 902, 'prior': 918, 'submitting': 1167, 'admission': 43, 'simulate': 1121, 'ship': 1112, 'sea': 1081, 'grid': 528, 'circle': 210, 'periscope': 871, 'image': 564, 'specific': 1139, 'shot': 1114, 'sound': 1135, 'marked': 720, 'miss': 749, 'missing': 750, 'hit': 549, 'hitting': 550, 'sunk': 1176, 'sinking': 1126, 'seven': 1110, 'large': 644, 'game': 511, 'simultaneously': 1123, 'remaining': 999, 'might': 743, 'nine': 792, 'ten': 1205, 'understand': 1255, 'english': 411, 'spanish': 1138, 'french': 503, 'identify': 561, 'unavailable': 1252, 'selection': 1095, 'selecting': 1094, 'defensive': 323, 'position': 895, 'respective': 1024, 'horizontally': 554, 'vertically': 1299, 'diagonally': 351, 'overlapping': 837, 'positioned': 896, 'define': 324, 'turn': 1245, 'examine': 440, 'indicate': 580, 'ended': 408, 'last': 645, 'previously': 913, 'ending': 409, 'caller': 174, 'accomplish': 11, 'responsive': 1029, 'depaul': 332, 'teleservices': 1204, 'us': 1272, 'rest': 1030, 'faster': 467, 'navigator': 779, 'advertise': 45, 'empty': 400, 'slot': 1131, 'allowed': 62, 'simple': 1120, 'usability': 1273, 'beta': 146, 'tester': 1210, 'adequately': 35, 'appealing': 82, 'monitoring': 762, 'monitor': 761, 'message': 737, 'exchange': 445, 'predict': 905, 'also': 67, 'chicago': 205, 'development': 349, 'guide': 532, 'framework': 501, 'structured': 1162, 'graphical': 526, 'dba': 317, 'error': 426, 'tracking': 1228, 'portal': 892, 'analyze': 72, 'ad': 29, 'hoc': 551, 'kpis': 642, 'key': 639, 'performance': 867, 'indicator': 582, 'asynchronous': 108, 'messaging': 738, 'enable': 401, 'parallel': 847, 'reduce': 980, 'overhead': 836, 'communication': 237, 'multi': 769, 'threading': 1214, 'load': 678, 'balancing': 135, 'well': 1317, 'overcome': 835, 'spike': 1143, 'traffic': 1231, 'poll': 891, 'dynamic': 386, 'transparent': 1240, 'resource': 1023, 'scalability': 1067, 'interruption': 616, 'rationale': 961, 'busiest': 165, 'regular': 989, 'robust': 1049, 'fault': 468, 'avoidance': 131, 'adoption': 44, 'tolerance': 1223, 'recovery': 977, 'technique': 1202, 'compensatory': 242, 'routing': 1053, 'around': 99, 'million': 745, 'csr': 297, 'datastream': 313, 'eam': 387, 'feature': 469, 'introduced': 618, 'quarterly': 954, 'authorization': 120, 'encryption': 406, 'checking': 204, 'ibm': 559, 'ccr': 190, 'displayable': 361, 'pixel': 882, 'nomenclature': 794, 'wcs': 1311, 'summarize': 1173, 'fashion': 465, 'summary': 1174, 'shown': 1117, 'dashboard': 310, 'activated': 24, 'mouse': 765, 'keyboard': 640, 'rreports': 1055, 'eports': 424, 'button': 167, 'exported': 454, 'short': 1113, 'amount': 70, 'remember': 1000, 'deployed': 334, 'session': 1106, 'held': 540, 'deployment': 335, 'terminology': 1207, 'community': 238, 'grant': 522, 'undergo': 1254, 'intranet': 617, 'connect': 266, 'designated': 340, 'included': 569, 'region': 986, 'outside': 834, 'united': 1259, 'running': 1058, 'brio': 156, 'portion': 894, 'export': 453, 'spreadsheet': 1144, 'microsoft': 740, 'lotus': 697, 'produce': 927, 'xl': 1328, 'made': 700, 'reflected': 982, 'authenticated': 118, 'logins': 690, 'cooky': 281, 'containing': 274, 'login': 689, 'username': 1278, 'reach': 962, 'commissioner': 233, 'league': 654, 'setting': 1108, 'index': 579, 'contained': 273, 'similar': 1119, 'board': 151, 'recently': 973, 'character': 199, 'reaching': 963, 'drop': 381, 'trade': 1229, 'nfl': 789, 'ask': 101, 'confirm': 262, 'dropping': 382, 'trading': 1230, 'performing': 869, 'fourth': 499, 'downtime': 378, 'wait': 1307, 'degradation': 327, 'monday': 760, 'saturday': 1064, 'est': 428, 'sunday': 1175, 'amd': 68, 'statement': 1150, 'obtained': 805, 'primary': 915, 'cached': 170, 'active': 25, 'font': 489, 'realtor': 967, 'cma': 222, 'synchronize': 1191, 'appointment': 89, 'offline': 817, 'mode': 753, 'whenever': 1318, 'downloaded': 377, 'restored': 1032, 'come': 231, 'remote': 1002, 'grow': 530, 'untrained': 1265, 'recourse': 976, 'separately': 1102, 'device': 350, 'ce': 192, 'palm': 845, 'estate': 430, 'agent': 55, 'ml': 752, 'get': 517, 'driving': 380, 'direction': 355, 'property': 941, 'download': 376, 'clear': 215, 'nursing': 804, 'student': 1163, 'class': 213, 'manage': 711, 'program': 931, 'curriculum': 301, 'clinical': 218, 'typical': 1249, 'university': 1260, 'specification': 1140, 'member': 733, 'secondary': 1086, 'historical': 547, 'call': 173, 'seller': 1097, 'buyer': 168, 'synchronization': 1190, 'retrieve': 1039, 'area': 97, 'responds': 1027, 'mistake': 751, 'clinicals': 219, 'decreased': 321, 'verbiage': 1293, 'national': 774, 'timely': 1221, 'manner': 716, 'general': 513, 'campusconnect': 175, 'central': 194, 'faculty': 460, 'master': 722, 'people': 863, 'personal': 875, 'dr': 379, 'susan': 1187, 'poslusny': 897, 'julie': 634, 'donalek': 374, 'karen': 635, 'sysol': 1192, 'basic': 138, 'possibility': 898, 'accordance': 12, 'built': 164, 'interference': 612, 'protection': 943, 'cohort': 225, 'associated': 106, 'study': 1164, 'eligible': 395, 'specify': 1142, 'sequence': 1103, 'quarter': 953, 'wednesday': 1314, 'middle': 741, 'season': 1084, 'released': 996, 'beginning': 142, 'sync': 1189, 'matrix': 724, 'exercise': 446, 'tool': 1226, 'link': 673, 'managment': 715, 'modification': 756, 'offer': 813, 'filter': 476, 'venue': 1292, 'segment': 1091, 'local': 680, 'clock': 220, 'pause': 855, 'resume': 1036, 'chart': 202, 'versus': 1297, 'assumed': 107, 'rf': 1046, 'especially': 427, 'budgeting': 161, 'become': 141, 'situation': 1128, 'reported': 1008, 'workstation': 1326, 'implementation': 566, 'hard': 538, 'disk': 359, 'space': 1137, 'mb': 727, 'net': 782, 'bdw': 140, 'loaded': 679, 'october': 811, 'revenue': 1044, 'expense': 450, 'allotted': 60, 'testing': 1211, 'calculation': 171, 'conducted': 257, 'jointly': 633, 'project': 933, 'pcg': 859, 'finance': 479, 'branch': 153, 'complex': 247, 'district': 371, 'entity': 421, 'mentioned': 734, 'uas': 1250, 'limited': 671, 'granted': 523, 'hierarchy': 542, 'privilege': 922, 'enet': 410, 'corrected': 286, 'appropriately': 91, 'higher': 544, 'stipulated': 1153, 'completion': 246, 'exceed': 442, 'mean': 729, 'communicating': 236, 'affected': 47, 'routine': 1052, 'informing': 588, 'upcoming': 1266, 'timeline': 1220, 'affecting': 48, 'cancellation': 177, 'offering': 815, 'legible': 658, 'foot': 490, 'ensuring': 416, 'comprehensible': 250, 'happening': 537, 'distinguishing': 368, 'sorted': 1134, 'present': 909, 'comprehensive': 251, 'inquiry': 596, 'prevented': 911, 'involving': 625, 'prompting': 938, 'includes': 570, 'contract': 278, 'deadline': 320, 'created': 292, 'notifying': 801, 'across': 20, 'compatible': 241, 'friendly': 505, 'boost': 152, 'agreeing': 58, 'increased': 575, 'expressing': 455, 'satisfaction': 1062, 'lasting': 646, 'content': 276, 'rate': 959, 'efficiently': 392, 'despite': 342, 'permitted': 873, 'accepted': 5, 'related': 993, 'compatibility': 240, 'hosted': 555, 'locally': 682, 'networked': 785, 'like': 669, 'interaction': 610, 'choose': 208, 'customize': 305, 'intuitively': 620, 'increasing': 576, 'doubling': 375, 'primarily': 914, 'variety': 1287, 'licensed': 665, 'requiring': 1016, 'annually': 74, 'translatable': 1235, 'configuration': 260, 'installable': 599, 'exactly': 439, 'maintaining': 705}\n",
            "Vocabulary columns: ['ability', 'able', 'abuse', 'academic', 'acceptable', 'accepted', 'access', 'accessed', 'accessible', 'accessing', 'accommodate', 'accomplish', 'accordance', 'according', 'accordingly', 'account', 'accounting', 'accurately', 'achieve', 'acknowledgement', 'across', 'act', 'action', 'activate', 'activated', 'active', 'activity', 'actor', 'actual', 'ad', 'add', 'added', 'addition', 'additional', 'address', 'adequately', 'adhere', 'adjacent', 'adjust', 'adjuster', 'adjustment', 'administration', 'administrator', 'admission', 'adoption', 'advertise', 'affect', 'affected', 'affecting', 'african', 'aftere', 'afternoon', 'age', 'agency', 'agenda', 'agent', 'aging', 'agree', 'agreeing', 'alienate', 'allotted', 'allow', 'allowed', 'allowing', 'allows', 'along', 'alongside', 'also', 'amd', 'american', 'amount', 'analysis', 'analyze', 'animation', 'annually', 'anonymous', 'another', 'answer', 'anti', 'apache', 'api', 'appeal', 'appealing', 'appear', 'appearance', 'applicable', 'application', 'applied', 'apply', 'appointment', 'appropriate', 'appropriately', 'approve', 'approved', 'approximately', 'ara', 'architecture', 'area', 'arise', 'around', 'aside', 'ask', 'aspect', 'assign', 'assigned', 'assignment', 'associated', 'assumed', 'asynchronous', 'attack', 'attempt', 'attempted', 'attention', 'attractive', 'audience', 'audit', 'auditing', 'auditor', 'authenticated', 'authentication', 'authorization', 'authorize', 'authorized', 'auto', 'automated', 'automatic', 'automatically', 'availability', 'available', 'average', 'avoid', 'avoidance', 'aware', 'back', 'backup', 'balancing', 'base', 'based', 'basic', 'basis', 'bdw', 'become', 'beginning', 'belong', 'belongs', 'best', 'beta', 'billing', 'binary', 'binding', 'blank', 'board', 'boost', 'branch', 'branding', 'bright', 'brio', 'brought', 'browse', 'browser', 'budget', 'budgeting', 'buffering', 'building', 'built', 'busiest', 'business', 'button', 'buyer', 'buying', 'cached', 'calculation', 'calendar', 'call', 'caller', 'campusconnect', 'cancel', 'cancellation', 'cannot', 'capability', 'capable', 'capacity', 'captured', 'car', 'card', 'cardholder', 'cardmember', 'case', 'category', 'cater', 'ccr', 'cd', 'ce', 'center', 'central', 'certain', 'certified', 'change', 'changing', 'character', 'chargeback', 'charged', 'chart', 'check', 'checking', 'chicago', 'choice', 'choiceparts', 'choose', 'chosen', 'circle', 'city', 'claim', 'class', 'clean', 'clear', 'click', 'client', 'clinical', 'clinicals', 'clock', 'closed', 'cma', 'code', 'coding', 'cohort', 'collaboration', 'collection', 'collision', 'colocated', 'color', 'come', 'comfortable', 'commissioner', 'common', 'communicate', 'communicating', 'communication', 'community', 'company', 'compatibility', 'compatible', 'compensatory', 'compile', 'complete', 'completed', 'completion', 'complex', 'compliance', 'comply', 'comprehensible', 'comprehensive', 'computer', 'concise', 'concurrency', 'concurrent', 'condition', 'conducted', 'conference', 'configurable', 'configuration', 'configure', 'confirm', 'confirmation', 'confirms', 'conform', 'connect', 'connection', 'conservative', 'consistent', 'consists', 'contact', 'contain', 'contained', 'containing', 'contains', 'content', 'continue', 'contract', 'control', 'convention', 'cooky', 'coordinator', 'copy', 'corporate', 'correct', 'corrected', 'corresponds', 'corrupted', 'country', 'crash', 'create', 'created', 'creates', 'creation', 'credit', 'criterion', 'csr', 'cst', 'current', 'currently', 'curriculum', 'customer', 'customizable', 'customization', 'customize', 'cybersource', 'cycle', 'daily', 'damaged', 'dashboard', 'data', 'database', 'datastream', 'date', 'day', 'db', 'dba', 'dbms', 'de', 'deadline', 'decreased', 'defect', 'defensive', 'define', 'defined', 'defining', 'degradation', 'delete', 'demand', 'denial', 'department', 'depaul', 'dependent', 'deployed', 'deployment', 'derived', 'describing', 'description', 'design', 'designated', 'designed', 'despite', 'detail', 'detailed', 'determine', 'determined', 'developed', 'developer', 'development', 'device', 'diagonally', 'different', 'differentiate', 'direct', 'direction', 'director', 'dirty', 'disability', 'disk', 'display', 'displayable', 'displayed', 'disputable', 'dispute', 'disputed', 'distance', 'distinguish', 'distinguishing', 'distributed', 'distribution', 'district', 'document', 'documentation', 'donalek', 'doubling', 'download', 'downloaded', 'downtime', 'dr', 'driving', 'drop', 'dropping', 'due', 'duplicate', 'duration', 'dynamic', 'eam', 'early', 'easily', 'easy', 'ee', 'efficiently', 'either', 'eleads', 'eligible', 'email', 'emerge', 'emerging', 'employee', 'empty', 'enable', 'encoded', 'encountered', 'encourage', 'encrypted', 'encryption', 'end', 'ended', 'ending', 'enet', 'english', 'enough', 'enrollment', 'ensure', 'ensures', 'ensuring', 'enter', 'entered', 'entering', 'enterprise', 'entity', 'entry', 'environment', 'eports', 'equipment', 'error', 'especially', 'est', 'established', 'estate', 'estimate', 'estimatics', 'estimator', 'ethnic', 'evaluation', 'even', 'event', 'every', 'exactly', 'examine', 'example', 'exceed', 'excel', 'exception', 'exchange', 'exercise', 'exist', 'existing', 'expected', 'expense', 'explanatory', 'explorer', 'export', 'exported', 'expressing', 'external', 'facilitate', 'facility', 'facitlity', 'faculty', 'fail', 'failure', 'fall', 'familiar', 'fashion', 'fast', 'faster', 'fault', 'feature', 'fee', 'feed', 'feedback', 'feel', 'file', 'filesystems', 'filter', 'filtered', 'final', 'finance', 'find', 'firefox', 'first', 'fit', 'five', 'flash', 'flow', 'follow', 'following', 'font', 'foot', 'foreign', 'form', 'format', 'formatted', 'formatting', 'formula', 'forth', 'found', 'fourth', 'frame', 'framework', 'free', 'french', 'friday', 'friendly', 'fully', 'fun', 'function', 'functionality', 'future', 'game', 'gateway', 'general', 'generate', 'generated', 'generation', 'get', 'give', 'given', 'go', 'grab', 'grant', 'granted', 'granularly', 'graph', 'graphical', 'gray', 'grid', 'group', 'grow', 'gui', 'guide', 'guideline', 'handle', 'handled', 'handling', 'happening', 'hard', 'hardware', 'held', 'help', 'hierarchy', 'high', 'higher', 'highest', 'highly', 'historical', 'history', 'hit', 'hitting', 'hoc', 'home', 'homeland', 'horizontally', 'hosted', 'hour', 'hsql', 'html', 'ibm', 'id', 'identify', 'identity', 'ie', 'image', 'immediate', 'implementation', 'inactive', 'include', 'included', 'includes', 'including', 'incorporate', 'incorrect', 'increase', 'increased', 'increasing', 'independent', 'independently', 'index', 'indicate', 'indicating', 'indicator', 'indivual', 'industry', 'infection', 'informally', 'information', 'informing', 'ingredient', 'initial', 'initiate', 'initiated', 'initiation', 'input', 'inquiring', 'inquiry', 'insert', 'install', 'installable', 'installation', 'installed', 'instruction', 'insurance', 'integrate', 'integrated', 'integration', 'integrity', 'intentional', 'interacting', 'interaction', 'interface', 'interference', 'internal', 'internet', 'interrupting', 'interruption', 'intranet', 'introduced', 'intuitive', 'intuitively', 'invalid', 'inventory', 'invitation', 'invite', 'involving', 'iqa', 'issuer', 'item', 'izogn', 'izognmovies', 'java', 'jboss', 'jointly', 'julie', 'karen', 'keep', 'keeping', 'kept', 'key', 'keyboard', 'kind', 'kpis', 'language', 'large', 'last', 'lasting', 'late', 'latency', 'later', 'latest', 'launch', 'law', 'lead', 'league', 'learn', 'learned', 'least', 'legible', 'less', 'let', 'letter', 'level', 'library', 'license', 'licensed', 'licensing', 'life', 'lifecycle', 'like', 'limit', 'limited', 'line', 'link', 'linux', 'list', 'listing', 'little', 'load', 'loaded', 'local', 'locale', 'locally', 'locate', 'located', 'location', 'log', 'logged', 'logging', 'login', 'logins', 'logo', 'logon', 'logons', 'long', 'longer', 'look', 'lotus', 'low', 'machine', 'made', 'mail', 'main', 'maintain', 'maintained', 'maintaining', 'maintenance', 'major', 'make', 'making', 'malicious', 'manage', 'managed', 'management', 'manager', 'managment', 'manner', 'manual', 'map', 'mark', 'marked', 'market', 'master', 'match', 'matrix', 'maximum', 'may', 'mb', 'mdi', 'mean', 'medium', 'meet', 'meeting', 'member', 'mentioned', 'menu', 'merchant', 'message', 'messaging', 'method', 'microsoft', 'middle', 'middleware', 'might', 'mile', 'million', 'min', 'minimum', 'minute', 'miss', 'missing', 'mistake', 'ml', 'mode', 'model', 'modern', 'modification', 'modifies', 'modify', 'modifying', 'monday', 'monitor', 'monitoring', 'month', 'morning', 'mouse', 'movie', 'mozilla', 'msn', 'multi', 'multiple', 'must', 'mysql', 'name', 'national', 'naturally', 'navigate', 'navigating', 'navigation', 'navigator', 'necessary', 'need', 'net', 'netscape', 'network', 'networked', 'neutral', 'new', 'next', 'nfl', 'nigeria', 'nigerian', 'nine', 'noisy', 'nomenclature', 'non', 'normal', 'noted', 'notification', 'notified', 'notify', 'notifying', 'novice', 'number', 'nursing', 'obtained', 'occur', 'occuring', 'occurred', 'occurrence', 'occurs', 'october', 'offensive', 'offer', 'offered', 'offering', 'office', 'offline', 'one', 'online', 'onsite', 'open', 'operate', 'operated', 'operating', 'operation', 'operational', 'option', 'oracle', 'order', 'organization', 'organizer', 'original', 'outage', 'outside', 'overcome', 'overhead', 'overlapping', 'override', 'owned', 'owner', 'oxley', 'packaged', 'page', 'paid', 'palm', 'paper', 'parallel', 'parameter', 'part', 'particular', 'party', 'pas', 'password', 'pattern', 'pause', 'pay', 'payment', 'pc', 'pcg', 'peak', 'pear', 'pending', 'people', 'per', 'percentage', 'perform', 'performance', 'performed', 'performing', 'period', 'periscope', 'permission', 'permitted', 'persisted', 'personal', 'personnel', 'pfe', 'phone', 'php', 'physical', 'pin', 'pixel', 'platform', 'player', 'plus', 'pm', 'pme', 'po', 'point', 'policy', 'poll', 'portal', 'portfolio', 'portion', 'position', 'positioned', 'poslusny', 'possibility', 'possible', 'post', 'posted', 'potential', 'practice', 'pre', 'predict', 'preference', 'preferred', 'prepaid', 'present', 'prevent', 'prevented', 'previous', 'previously', 'primarily', 'primary', 'print', 'printed', 'prior', 'privacy', 'private', 'priviledged', 'privilege', 'problem', 'process', 'processed', 'processing', 'produce', 'product', 'productivity', 'professional', 'program', 'programming', 'project', 'projected', 'projection', 'promotional', 'prompt', 'prompting', 'proof', 'properly', 'property', 'protect', 'protection', 'provide', 'provided', 'provides', 'purchase', 'purchased', 'purchasing', 'purged', 'purpose', 'quantity', 'quarter', 'quarterly', 'query', 'question', 'radius', 'range', 'rate', 'rating', 'rationale', 'reach', 'reaching', 'read', 'readable', 'real', 'realtor', 'reason', 'receipt', 'receive', 'received', 'receiving', 'recently', 'record', 'recorded', 'recourse', 'recovery', 'recreation', 'recycled', 'reduce', 'reflect', 'reflected', 'refresh', 'regard', 'regarding', 'region', 'register', 'registered', 'regular', 'regularly', 'regulation', 'rejection', 'related', 'relating', 'release', 'released', 'religious', 'remain', 'remaining', 'remember', 'reminder', 'remote', 'remove', 'rental', 'rep', 'repair', 'report', 'reported', 'reporting', 'request', 'requested', 'requesting', 'require', 'required', 'requirement', 'requiring', 'reservation', 'reserve', 'reserved', 'residing', 'resolution', 'resolve', 'resource', 'respective', 'respond', 'respondent', 'responds', 'response', 'responsive', 'rest', 'restore', 'restored', 'restricted', 'result', 'resulting', 'resume', 'retain', 'retrieval', 'retrieve', 'retrieved', 'return', 'returned', 'reveal', 'revenue', 'review', 'rf', 'right', 'rms', 'robust', 'role', 'room', 'routine', 'routing', 'royalty', 'rreports', 'rule', 'run', 'running', 'runtime', 'sale', 'sarbanes', 'satisfaction', 'satisfied', 'saturday', 'save', 'saved', 'scalability', 'scale', 'schedule', 'scheduled', 'scheduling', 'schema', 'scheme', 'school', 'score', 'scored', 'scoring', 'screen', 'script', 'se', 'sea', 'search', 'searching', 'season', 'second', 'secondary', 'section', 'secure', 'secured', 'security', 'segment', 'select', 'selected', 'selecting', 'selection', 'self', 'seller', 'semi', 'send', 'sent', 'separate', 'separately', 'sequence', 'server', 'service', 'session', 'set', 'setting', 'setup', 'seven', 'shall', 'ship', 'short', 'shot', 'show', 'showing', 'shown', 'sign', 'similar', 'simple', 'simulate', 'simultaneous', 'simultaneously', 'since', 'single', 'sinking', 'site', 'situation', 'six', 'skill', 'slot', 'software', 'solution', 'sorted', 'sound', 'source', 'space', 'spanish', 'specific', 'specification', 'specified', 'specify', 'spike', 'spreadsheet', 'sql', 'staff', 'standard', 'start', 'state', 'statement', 'statistic', 'status', 'stipulated', 'store', 'stored', 'storing', 'stream', 'streamed', 'streaming', 'street', 'structure', 'structured', 'student', 'study', 'submenu', 'submit', 'submitting', 'subscriber', 'substitutionary', 'subsystem', 'successfully', 'sum', 'summarize', 'summary', 'sunday', 'sunk', 'supervisor', 'supplied', 'supplier', 'supply', 'supplying', 'support', 'supported', 'supporting', 'survey', 'surveyed', 'susan', 'symbol', 'sync', 'synchronization', 'synchronize', 'sysol', 'system', 'systematic', 'table', 'take', 'taken', 'target', 'task', 'team', 'technical', 'technique', 'technology', 'teleservices', 'ten', 'terminal', 'terminology', 'test', 'tested', 'tester', 'testing', 'third', 'thought', 'threading', 'threat', 'three', 'throughout', 'ticket', 'time', 'timeline', 'timely', 'title', 'tolerance', 'toll', 'tomcat', 'tool', 'total', 'tracking', 'trade', 'trading', 'traffic', 'trail', 'training', 'transaction', 'translatable', 'translated', 'transmission', 'transmit', 'transmitted', 'transparent', 'transport', 'transportation', 'trial', 'tribe', 'turn', 'tv', 'two', 'type', 'typical', 'uas', 'unauthorized', 'unavailable', 'uncorrupted', 'undergo', 'understand', 'understandable', 'unique', 'unit', 'united', 'university', 'unknown', 'unless', 'unlimited', 'unreserved', 'untrained', 'upcoming', 'update', 'updated', 'upgrade', 'upon', 'uptime', 'us', 'usability', 'usage', 'use', 'used', 'user', 'username', 'using', 'utility', 'utilize', 'valid', 'validate', 'validation', 'validity', 'value', 'variety', 'various', 'vehicle', 'velkat', 'vendor', 'venue', 'verbiage', 'verification', 'verify', 'version', 'versus', 'vertical', 'vertically', 'via', 'vibrant', 'view', 'viewer', 'viewing', 'virus', 'volume', 'wait', 'want', 'washing', 'watch', 'wcs', 'web', 'website', 'wednesday', 'week', 'weekly', 'well', 'whenever', 'whether', 'window', 'within', 'without', 'word', 'work', 'working', 'workstation', 'would', 'xl', 'xml', 'xp', 'year', 'yellow', 'yet', 'zip', 'zipcode']\n"
          ]
        }
      ],
      "source": [
        "from sklearn.feature_extraction.text import TfidfVectorizer\n",
        "tfidf = TfidfVectorizer()\n",
        "X_tfidf = tfidf.fit_transform(corpus).toarray()\n",
        "\n",
        "sorted_vocab_keys = sorted(tfidf.get_feature_names_out())\n",
        "print(X_tfidf)\n",
        "\n",
        "tfidf_df = pd.DataFrame(X_tfidf, columns=sorted_vocab_keys)\n",
        "\n",
        "tfidf_df.to_csv('/content/sample_data/dataset_tfidf_sorted.csv', index=False)\n",
        "print(tfidf.vocabulary_)\n",
        "print(\"Vocabulary columns:\", sorted_vocab_keys)"
      ]
    },
    {
      "cell_type": "code",
      "execution_count": null,
      "metadata": {
        "colab": {
          "base_uri": "https://localhost:8080/"
        },
        "id": "XmL5xSQZV0Vd",
        "outputId": "c7597e54-9c01-49f1-a066-b66961a4cf7c"
      },
      "outputs": [
        {
          "name": "stdout",
          "output_type": "stream",
          "text": [
            "    class                                    RequirementText  \\\n",
            "0      PE  the system shall refresh the display every  se...   \n",
            "1      LF  the application shall match the color of the s...   \n",
            "2      US   if projected  the data must be readable  on a...   \n",
            "3       A   the product shall be available during normal ...   \n",
            "4      US   if projected  the data must be understandable...   \n",
            "..    ...                                                ...   \n",
            "669     O   the system will integrate with multiple datab...   \n",
            "670     O   the system must be installable in any operati...   \n",
            "671    SE   the system will ensure that only company empl...   \n",
            "672    SE   only managers will be able to perform search ...   \n",
            "673    SE   the system will ensure that the databases dat...   \n",
            "\n",
            "                                    SimilarRequirement  \n",
            "0     the system will refresh the display every  se...  \n",
            "1     the application shall match the color schema ...  \n",
            "2     if projected the data must be legible on a x ...  \n",
            "3     the product will be available during normal b...  \n",
            "4                                                 None  \n",
            "..                                                 ...  \n",
            "669                                               None  \n",
            "670                                               None  \n",
            "671                                               None  \n",
            "672                                               None  \n",
            "673                                               None  \n",
            "\n",
            "[674 rows x 3 columns]\n"
          ]
        }
      ],
      "source": [
        "from sklearn.metrics.pairwise import cosine_similarity\n",
        "df['SimilarRequirement'] = None\n",
        "\n",
        "for i in range(len(df)):\n",
        "    similar_reqs = []\n",
        "\n",
        "    for j in range(i + 1, len(df)):\n",
        "        cosine_sim = cosine_similarity([X_tfidf[i]], [X_tfidf[j]])[0][0]\n",
        "\n",
        "        if cosine_sim > 0.8:\n",
        "            similar_reqs.append(f\"{df['RequirementText'][j]} ({j})\")\n",
        "\n",
        "    if similar_reqs:\n",
        "        df.at[i, 'SimilarRequirement'] = ', '.join(similar_reqs)\n",
        "\n",
        "print(df[['class', 'RequirementText', 'SimilarRequirement']])"
      ]
    },
    {
      "cell_type": "code",
      "execution_count": null,
      "metadata": {
        "colab": {
          "base_uri": "https://localhost:8080/"
        },
        "id": "xPEm4pLEXLab",
        "outputId": "86a282ec-1c89-438e-b06d-d0a9abc81b45"
      },
      "outputs": [
        {
          "data": {
            "text/plain": [
              "55"
            ]
          },
          "execution_count": 44,
          "metadata": {},
          "output_type": "execute_result"
        }
      ],
      "source": [
        "df['SimilarRequirement'].count()"
      ]
    },
    {
      "cell_type": "code",
      "execution_count": null,
      "metadata": {
        "colab": {
          "base_uri": "https://localhost:8080/"
        },
        "id": "8tIB_gXObfRB",
        "outputId": "c2e6bfc9-62b3-440e-aeea-825de526d58e"
      },
      "outputs": [
        {
          "name": "stdout",
          "output_type": "stream",
          "text": [
            "    class                                    RequirementText  \\\n",
            "0      PE          system shall refresh display every second   \n",
            "1      LF  application shall match color schema set forth...   \n",
            "2      US  projected data must readable x projection scre...   \n",
            "3       A  product shall available normal business hour l...   \n",
            "4      US  projected data must understandable x projectio...   \n",
            "..    ...                                                ...   \n",
            "669     O  system integrate multiple database management ...   \n",
            "670     O  system must installable operating environment ...   \n",
            "671    SE  system ensure company employee approved extern...   \n",
            "672    SE  manager able perform search query reservation ...   \n",
            "673    SE  system ensure database data corresponds exactl...   \n",
            "\n",
            "                                    SimilarRequirement  \n",
            "0            system refresh display every second (556)  \n",
            "1    application shall match color schema set forth...  \n",
            "2    projected data must understandable x projectio...  \n",
            "3    product available normal business hour ensurin...  \n",
            "4    projected data must comprehensible x projectio...  \n",
            "..                                                 ...  \n",
            "669                                               None  \n",
            "670                                               None  \n",
            "671                                               None  \n",
            "672                                               None  \n",
            "673                                               None  \n",
            "\n",
            "[674 rows x 3 columns]\n"
          ]
        }
      ],
      "source": [
        "def jaccard_similarity(str1, str2):\n",
        "    set1 = set(str1.split())\n",
        "    set2 = set(str2.split())\n",
        "    intersection = len(set1.intersection(set2))\n",
        "    union = len(set1.union(set2))\n",
        "    return intersection / union if union != 0 else 0\n",
        "\n",
        "df['SimilarRequirement'] = None\n",
        "\n",
        "for i in range(len(df)):\n",
        "    similar_reqs = []\n",
        "\n",
        "    for j in range(i + 1, len(df)):\n",
        "        jaccard_sim = jaccard_similarity(df['RequirementText'][i], df['RequirementText'][j])\n",
        "\n",
        "        if jaccard_sim > 0.6:\n",
        "            similar_reqs.append(f\"{df['RequirementText'][j]} ({j})\")\n",
        "\n",
        "    if similar_reqs:\n",
        "        df.at[i, 'SimilarRequirement'] = ', '.join(similar_reqs)\n",
        "\n",
        "print(df[['class', 'RequirementText', 'SimilarRequirement']])"
      ]
    },
    {
      "cell_type": "code",
      "execution_count": null,
      "metadata": {
        "colab": {
          "base_uri": "https://localhost:8080/"
        },
        "id": "5xtA593dhFaq",
        "outputId": "5d3db8d2-b8bd-4484-af2e-e9f18ed06ffa"
      },
      "outputs": [
        {
          "data": {
            "text/plain": [
              "99"
            ]
          },
          "execution_count": 20,
          "metadata": {},
          "output_type": "execute_result"
        }
      ],
      "source": [
        "df['SimilarRequirement'].count()"
      ]
    },
    {
      "cell_type": "code",
      "execution_count": null,
      "metadata": {
        "colab": {
          "base_uri": "https://localhost:8080/"
        },
        "id": "JZ75r1ZOhFow",
        "outputId": "2315b8ba-dde6-4dd3-e92a-d10419e850b7"
      },
      "outputs": [
        {
          "name": "stdout",
          "output_type": "stream",
          "text": [
            "    class                                    RequirementText  \\\n",
            "0      PE  the system shall refresh the display every  se...   \n",
            "1      LF  the application shall match the color of the s...   \n",
            "2      US   if projected  the data must be readable  on a...   \n",
            "3       A   the product shall be available during normal ...   \n",
            "4      US   if projected  the data must be understandable...   \n",
            "..    ...                                                ...   \n",
            "669     O   the system will integrate with multiple datab...   \n",
            "670     O   the system must be installable in any operati...   \n",
            "671    SE   the system will ensure that only company empl...   \n",
            "672    SE   only managers will be able to perform search ...   \n",
            "673    SE   the system will ensure that the databases dat...   \n",
            "\n",
            "                                    SimilarRequirement  \n",
            "0                                                 None  \n",
            "1     the application shall match the color schema ...  \n",
            "2                                                 None  \n",
            "3                                                 None  \n",
            "4                                                 None  \n",
            "..                                                 ...  \n",
            "669                                               None  \n",
            "670                                               None  \n",
            "671                                               None  \n",
            "672                                               None  \n",
            "673                                               None  \n",
            "\n",
            "[674 rows x 3 columns]\n"
          ]
        }
      ],
      "source": [
        "import numpy as np\n",
        "from scipy.spatial.distance import euclidean\n",
        "\n",
        "df['SimilarRequirement'] = None\n",
        "\n",
        "for i in range(len(df)):\n",
        "    similar_reqs = []\n",
        "\n",
        "    for j in range(i + 1, len(df)):\n",
        "        euclidean_dist = euclidean(X_bow[i], X_bow[j])\n",
        "        if euclidean_dist < 0.5:\n",
        "            similar_reqs.append(f\"{df['RequirementText'][j]} ({j})\")\n",
        "\n",
        "    if similar_reqs:\n",
        "        df.at[i, 'SimilarRequirement'] = ', '.join(similar_reqs)\n",
        "\n",
        "print(df[['class', 'RequirementText', 'SimilarRequirement']])"
      ]
    },
    {
      "cell_type": "code",
      "execution_count": null,
      "metadata": {
        "colab": {
          "base_uri": "https://localhost:8080/"
        },
        "id": "Ue4yX9OojdzG",
        "outputId": "ab9d03da-7840-4b4b-9567-c3e3c28d6bb7"
      },
      "outputs": [
        {
          "data": {
            "text/plain": [
              "6"
            ]
          },
          "execution_count": 49,
          "metadata": {},
          "output_type": "execute_result"
        }
      ],
      "source": [
        "df['SimilarRequirement'].count()"
      ]
    },
    {
      "cell_type": "code",
      "execution_count": null,
      "metadata": {
        "colab": {
          "base_uri": "https://localhost:8080/"
        },
        "id": "ACdRMQXCj5uC",
        "outputId": "fb7af935-ae03-42e2-9ddc-9cc1c25ad403"
      },
      "outputs": [
        {
          "name": "stdout",
          "output_type": "stream",
          "text": [
            "Collecting python-Levenshtein\n",
            "  Downloading python_Levenshtein-0.26.1-py3-none-any.whl.metadata (3.7 kB)\n",
            "Collecting Levenshtein==0.26.1 (from python-Levenshtein)\n",
            "  Downloading levenshtein-0.26.1-cp310-cp310-manylinux_2_17_x86_64.manylinux2014_x86_64.whl.metadata (3.2 kB)\n",
            "Collecting rapidfuzz<4.0.0,>=3.9.0 (from Levenshtein==0.26.1->python-Levenshtein)\n",
            "  Downloading rapidfuzz-3.10.1-cp310-cp310-manylinux_2_17_x86_64.manylinux2014_x86_64.whl.metadata (11 kB)\n",
            "Downloading python_Levenshtein-0.26.1-py3-none-any.whl (9.4 kB)\n",
            "Downloading levenshtein-0.26.1-cp310-cp310-manylinux_2_17_x86_64.manylinux2014_x86_64.whl (162 kB)\n",
            "\u001b[2K   \u001b[90m━━━━━━━━━━━━━━━━━━━━━━━━━━━━━━━━━━━━━━━━\u001b[0m \u001b[32m162.6/162.6 kB\u001b[0m \u001b[31m3.5 MB/s\u001b[0m eta \u001b[36m0:00:00\u001b[0m\n",
            "\u001b[?25hDownloading rapidfuzz-3.10.1-cp310-cp310-manylinux_2_17_x86_64.manylinux2014_x86_64.whl (3.1 MB)\n",
            "\u001b[2K   \u001b[90m━━━━━━━━━━━━━━━━━━━━━━━━━━━━━━━━━━━━━━━━\u001b[0m \u001b[32m3.1/3.1 MB\u001b[0m \u001b[31m39.9 MB/s\u001b[0m eta \u001b[36m0:00:00\u001b[0m\n",
            "\u001b[?25hInstalling collected packages: rapidfuzz, Levenshtein, python-Levenshtein\n",
            "Successfully installed Levenshtein-0.26.1 python-Levenshtein-0.26.1 rapidfuzz-3.10.1\n"
          ]
        }
      ],
      "source": [
        "!pip install python-Levenshtein"
      ]
    },
    {
      "cell_type": "code",
      "execution_count": null,
      "metadata": {
        "colab": {
          "base_uri": "https://localhost:8080/"
        },
        "id": "kvFkZA56jeJj",
        "outputId": "fc2b140c-14b0-41fb-adc4-abf0402a45b7"
      },
      "outputs": [
        {
          "name": "stdout",
          "output_type": "stream",
          "text": [
            "    class                                    RequirementText  \\\n",
            "0      PE  the system shall refresh the display every  se...   \n",
            "1      LF  the application shall match the color of the s...   \n",
            "2      US   if projected  the data must be readable  on a...   \n",
            "3       A   the product shall be available during normal ...   \n",
            "4      US   if projected  the data must be understandable...   \n",
            "..    ...                                                ...   \n",
            "669     O   the system will integrate with multiple datab...   \n",
            "670     O   the system must be installable in any operati...   \n",
            "671    SE   the system will ensure that only company empl...   \n",
            "672    SE   only managers will be able to perform search ...   \n",
            "673    SE   the system will ensure that the databases dat...   \n",
            "\n",
            "                                    SimilarRequirement  \n",
            "0     the system will refresh the display every  se...  \n",
            "1                                                 None  \n",
            "2                                                 None  \n",
            "3                                                 None  \n",
            "4                                                 None  \n",
            "..                                                 ...  \n",
            "669                                               None  \n",
            "670                                               None  \n",
            "671                                               None  \n",
            "672                                               None  \n",
            "673                                               None  \n",
            "\n",
            "[674 rows x 3 columns]\n"
          ]
        }
      ],
      "source": [
        "import Levenshtein as lev\n",
        "\n",
        "df['SimilarRequirement'] = None\n",
        "\n",
        "for i in range(len(df)):\n",
        "    similar_reqs = []\n",
        "\n",
        "    for j in range(i + 1, len(df)):\n",
        "        levenshtein_dist = lev.distance(df['RequirementText'][i], df['RequirementText'][j])\n",
        "        if levenshtein_dist < 5:\n",
        "            similar_reqs.append(f\"{df['RequirementText'][j]} ({j})\")\n",
        "\n",
        "    if similar_reqs:\n",
        "        df.at[i, 'SimilarRequirement'] = ', '.join(similar_reqs)\n",
        "\n",
        "print(df[['class', 'RequirementText', 'SimilarRequirement']])"
      ]
    },
    {
      "cell_type": "code",
      "execution_count": null,
      "metadata": {
        "colab": {
          "base_uri": "https://localhost:8080/"
        },
        "id": "KapSjdYAkHVg",
        "outputId": "07442a97-947e-451d-dcc7-11d43e4bc709"
      },
      "outputs": [
        {
          "data": {
            "text/plain": [
              "12"
            ]
          },
          "execution_count": 51,
          "metadata": {},
          "output_type": "execute_result"
        }
      ],
      "source": [
        "df['SimilarRequirement'].count()"
      ]
    },
    {
      "cell_type": "code",
      "execution_count": null,
      "metadata": {
        "colab": {
          "base_uri": "https://localhost:8080/"
        },
        "id": "kFfjPBLekHoG",
        "outputId": "9f4ee2da-ebff-4265-cc17-e3c88807f886"
      },
      "outputs": [
        {
          "name": "stdout",
          "output_type": "stream",
          "text": [
            "[==================================================] 100.0% 1662.8/1662.8MB downloaded\n"
          ]
        }
      ],
      "source": [
        "import gensim.downloader as api\n",
        "from gensim.models import KeyedVectors\n",
        "import pandas as pd\n",
        "\n",
        "word_vectors = api.load('word2vec-google-news-300')"
      ]
    },
    {
      "cell_type": "code",
      "execution_count": null,
      "metadata": {
        "colab": {
          "base_uri": "https://localhost:8080/"
        },
        "id": "gseg0ZtQk6Bs",
        "outputId": "acaa8bc4-9827-4ec1-ce98-328115d14498"
      },
      "outputs": [
        {
          "name": "stdout",
          "output_type": "stream",
          "text": [
            "    class                                    RequirementText  \\\n",
            "0      PE  the system shall refresh the display every  se...   \n",
            "1      LF  the application shall match the color of the s...   \n",
            "2      US   if projected  the data must be readable  on a...   \n",
            "3       A   the product shall be available during normal ...   \n",
            "4      US   if projected  the data must be understandable...   \n",
            "..    ...                                                ...   \n",
            "669     O   the system will integrate with multiple datab...   \n",
            "670     O   the system must be installable in any operati...   \n",
            "671    SE   the system will ensure that only company empl...   \n",
            "672    SE   only managers will be able to perform search ...   \n",
            "673    SE   the system will ensure that the databases dat...   \n",
            "\n",
            "                                    SimilarRequirement  \n",
            "0     the system will refresh the display every  se...  \n",
            "1     the application shall match the color schema ...  \n",
            "2     if projected  the data must be understandable...  \n",
            "3     the product will be available during normal b...  \n",
            "4     if projected the data must be legible on a x ...  \n",
            "..                                                 ...  \n",
            "669                                               None  \n",
            "670                                               None  \n",
            "671                                               None  \n",
            "672                                               None  \n",
            "673                                               None  \n",
            "\n",
            "[674 rows x 3 columns]\n"
          ]
        }
      ],
      "source": [
        "import pandas as pd\n",
        "import numpy as np\n",
        "import re\n",
        "import gensim.downloader as api\n",
        "from sklearn.preprocessing import normalize\n",
        "from sklearn.metrics.pairwise import cosine_similarity\n",
        "\n",
        "\n",
        "def read_requirements_file(file_path):\n",
        "    data = []\n",
        "    with open(file_path, 'r') as file:\n",
        "        for line in file:\n",
        "            line = line.strip()\n",
        "            if not line:\n",
        "                continue\n",
        "            parts = line.split(':', 1)\n",
        "            if len(parts) == 2:\n",
        "                data.append(parts)\n",
        "    return data\n",
        "\n",
        "def process_requirement_text(text):\n",
        "    text = re.sub(r'[^a-zA-Z\\s]', '', text)\n",
        "    return text.lower()\n",
        "\n",
        "def get_average_word_vector(text, model, num_features=300):\n",
        "    words = text.split()\n",
        "    word_vecs = [model[word] for word in words if word in model]\n",
        "    return np.mean(word_vecs, axis=0) if word_vecs else np.zeros(num_features)\n",
        "\n",
        "data_nfr = read_requirements_file('/content/sample_data/nfr.txt')\n",
        "data_dup = read_requirements_file('/content/sample_data/nfr dup.txt')\n",
        "\n",
        "df_nfr = pd.DataFrame(data_nfr, columns=[\"class\", \"requirement\"])\n",
        "df_dup = pd.DataFrame(data_dup, columns=[\"class\", \"requirement\"])\n",
        "\n",
        "df = pd.concat([df_nfr, df_dup], ignore_index=True)\n",
        "\n",
        "df['RequirementText'] = df['requirement'].apply(process_requirement_text)\n",
        "df['AvgWordEmbedding'] = df['RequirementText'].apply(lambda x: get_average_word_vector(x, word_vectors))\n",
        "\n",
        "embedding_matrix = np.array(list(df['AvgWordEmbedding']))\n",
        "\n",
        "normalized_embeddings = normalize(embedding_matrix)\n",
        "\n",
        "df['AvgWordEmbedding'] = list(normalized_embeddings)\n",
        "\n",
        "similarity_threshold = 0.9\n",
        "\n",
        "df['SimilarRequirement'] = None\n",
        "for i in range(len(df)):\n",
        "    similar_reqs = []\n",
        "    for j in range(i + 1, len(df)):\n",
        "        similarity = cosine_similarity([df['AvgWordEmbedding'][i]], [df['AvgWordEmbedding'][j]])[0][0]\n",
        "        if similarity > similarity_threshold:\n",
        "            similar_reqs.append(f\"{df['RequirementText'][j]} ({j})\")\n",
        "    if similar_reqs:\n",
        "        df.at[i, 'SimilarRequirement'] = ', '.join(similar_reqs)\n",
        "\n",
        "print(df[['class', 'RequirementText', 'SimilarRequirement']])"
      ]
    },
    {
      "cell_type": "code",
      "execution_count": null,
      "metadata": {
        "colab": {
          "base_uri": "https://localhost:8080/"
        },
        "id": "AK8y07aOuGqq",
        "outputId": "e869a61e-4161-4c58-eb71-7059f5ea17b7"
      },
      "outputs": [
        {
          "data": {
            "text/plain": [
              "144"
            ]
          },
          "execution_count": 55,
          "metadata": {},
          "output_type": "execute_result"
        }
      ],
      "source": [
        "df['SimilarRequirement'].count()"
      ]
    },
    {
      "cell_type": "code",
      "execution_count": null,
      "metadata": {
        "id": "sjhFfCevp2CV"
      },
      "outputs": [],
      "source": [
        "import pandas as pd\n",
        "import numpy as np\n",
        "import re\n",
        "import gensim.downloader as api\n",
        "from sklearn.preprocessing import normalize\n",
        "from sklearn.metrics.pairwise import cosine_similarity\n",
        "\n",
        "def read_requirements_file(file_path):\n",
        "    data = []\n",
        "    with open(file_path, 'r') as file:\n",
        "        for line in file:\n",
        "            line = line.strip()\n",
        "            if not line:\n",
        "                continue\n",
        "            parts = line.split(':', 1)\n",
        "            if len(parts) == 2:\n",
        "                data.append(parts)\n",
        "    return data\n",
        "\n",
        "def process_requirement_text(text):\n",
        "    text = re.sub(r'[^a-zA-Z\\s]', '', text)\n",
        "    return text.lower()\n",
        "\n",
        "def get_average_word_vector(text, model, num_features=300):\n",
        "    words = text.split()\n",
        "    word_vecs = [model[word] for word in words if word in model]\n",
        "    return np.mean(word_vecs, axis=0) if word_vecs else np.zeros(num_features)\n",
        "\n",
        "glove_vectors = api.load('glove-wiki-gigaword-300')\n",
        "\n",
        "data_nfr = read_requirements_file('/content/sample_data/nfr.txt')\n",
        "data_dup = read_requirements_file('/content/sample_data/nfr dup.txt')\n",
        "\n",
        "df_nfr = pd.DataFrame(data_nfr, columns=[\"class\", \"requirement\"])\n",
        "df_dup = pd.DataFrame(data_dup, columns=[\"class\", \"requirement\"])\n",
        "\n",
        "df = pd.concat([df_nfr, df_dup], ignore_index=True)\n",
        "\n",
        "df['RequirementText'] = df['requirement'].apply(process_requirement_text)\n",
        "df['AvgWordEmbedding'] = df['RequirementText'].apply(lambda x: get_average_word_vector(x, glove_vectors))\n",
        "\n",
        "embedding_matrix = np.array(list(df['AvgWordEmbedding']))\n",
        "\n",
        "normalized_embeddings = normalize(embedding_matrix)\n",
        "\n",
        "df['AvgWordEmbedding'] = list(normalized_embeddings)\n",
        "\n",
        "similarity_threshold = 0.9\n",
        "\n",
        "df['SimilarRequirement'] = None\n",
        "for i in range(len(df)):\n",
        "    similar_reqs = []\n",
        "    for j in range(i + 1, len(df)):\n",
        "        similarity = cosine_similarity([df['AvgWordEmbedding'][i]], [df['AvgWordEmbedding'][j]])[0][0]\n",
        "        if similarity > similarity_threshold:\n",
        "            similar_reqs.append(f\"{df['RequirementText'][j]} ({j})\")\n",
        "    if similar_reqs:\n",
        "        df.at[i, 'SimilarRequirement'] = ', '.join(similar_reqs)\n",
        "\n",
        "print(df[['class', 'RequirementText', 'SimilarRequirement']])"
      ]
    },
    {
      "cell_type": "code",
      "execution_count": null,
      "metadata": {
        "id": "izv1LzztqM_T"
      },
      "outputs": [],
      "source": [
        "df['SimilarRequirement'].count()"
      ]
    },
    {
      "cell_type": "code",
      "execution_count": null,
      "metadata": {
        "colab": {
          "base_uri": "https://localhost:8080/"
        },
        "id": "Iinbw3Nw3G2J",
        "outputId": "7ed23f78-5a3d-4e44-988f-6c06e2ca5ed9"
      },
      "outputs": [
        {
          "name": "stdout",
          "output_type": "stream",
          "text": [
            "    class                                        requirement  \\\n",
            "0      PE  The system shall refresh the display every 60 ...   \n",
            "1      LF  The application shall match the color of the s...   \n",
            "2      US   If projected  the data must be readable.  On ...   \n",
            "3       A   The product shall be available during normal ...   \n",
            "4      US   If projected  the data must be understandable...   \n",
            "..    ...                                                ...   \n",
            "669     O   The system will integrate with multiple datab...   \n",
            "670     O   The system must be installable in any operati...   \n",
            "671    SE   The system will ensure that only company empl...   \n",
            "672    SE   Only managers will be able to perform search ...   \n",
            "673    SE   The system will ensure that the database’s da...   \n",
            "\n",
            "                                    SimilarRequirement  \n",
            "0    The preferred repair facility ratings shall be...  \n",
            "1     If projected  the data must be readable.  On ...  \n",
            "2    The application shall match the color of the s...  \n",
            "3    The product shall adhere to the corporate onli...  \n",
            "4     If projected  the data must be readable.  On ...  \n",
            "..                                                 ...  \n",
            "669   If projected  the data must be readable.  On ...  \n",
            "670   The product shall be available during normal ...  \n",
            "671  The product shall ensure that it can only be a...  \n",
            "672   The product shall be available during normal ...  \n",
            "673   If projected  the data must be readable.  On ...  \n",
            "\n",
            "[674 rows x 3 columns]\n"
          ]
        }
      ],
      "source": [
        "import pandas as pd\n",
        "import re\n",
        "from nltk.corpus import stopwords\n",
        "from nltk.stem import WordNetLemmatizer\n",
        "from gensim.models.doc2vec import Doc2Vec, TaggedDocument\n",
        "from sklearn.metrics.pairwise import cosine_similarity\n",
        "\n",
        "lemmatizer = WordNetLemmatizer()\n",
        "english_stopwords = set(stopwords.words('english'))\n",
        "\n",
        "def process_requirement_text(text):\n",
        "    text = re.sub('[^a-zA-Z]', ' ', str(text))\n",
        "    words = text.lower().split()\n",
        "    return [lemmatizer.lemmatize(word) for word in words if word not in english_stopwords]\n",
        "\n",
        "def read_requirements_file(file_path):\n",
        "    data = []\n",
        "    with open(file_path, 'r') as file:\n",
        "        for line in file:\n",
        "            line = line.strip()\n",
        "            if not line:\n",
        "                continue\n",
        "            parts = line.split(':', 1)\n",
        "            if len(parts) == 2:\n",
        "                data.append(parts)\n",
        "    return data\n",
        "\n",
        "data_nfr = read_requirements_file('/content/sample_data/nfr.txt')\n",
        "data_dup = read_requirements_file('/content/sample_data/nfr dup.txt')\n",
        "\n",
        "df_nfr = pd.DataFrame(data_nfr, columns=[\"class\", \"requirement\"])\n",
        "df_dup = pd.DataFrame(data_dup, columns=[\"class\", \"requirement\"])\n",
        "df = pd.concat([df_nfr, df_dup], ignore_index=True)\n",
        "\n",
        "df['RequirementTokens'] = df['requirement'].apply(process_requirement_text)\n",
        "\n",
        "tagged_data = [\n",
        "    TaggedDocument(words=row['RequirementTokens'], tags=[i])\n",
        "    for i, row in df.iterrows()\n",
        "]\n",
        "\n",
        "doc2vec_model = Doc2Vec(vector_size=100, window=5, min_count=1, workers=4, epochs=40)\n",
        "doc2vec_model.build_vocab(tagged_data)\n",
        "doc2vec_model.train(tagged_data, total_examples=doc2vec_model.corpus_count, epochs=doc2vec_model.epochs)\n",
        "\n",
        "df['Doc2VecEmbedding'] = df['RequirementTokens'].apply(\n",
        "    lambda tokens: doc2vec_model.infer_vector(tokens)\n",
        ")\n",
        "\n",
        "embeddings = df['Doc2VecEmbedding'].tolist()\n",
        "similarity_matrix = cosine_similarity(embeddings)\n",
        "\n",
        "similarity_threshold = 0.8\n",
        "df['SimilarRequirement'] = None\n",
        "\n",
        "for i in range(len(df)):\n",
        "    similar_reqs = [\n",
        "        f\"{df.at[j, 'requirement']} (ID: {j})\"\n",
        "        for j in range(len(df))\n",
        "        if i != j and similarity_matrix[i, j] > similarity_threshold\n",
        "    ]\n",
        "    df.at[i, 'SimilarRequirement'] = ', '.join(similar_reqs) if similar_reqs else None\n",
        "\n",
        "print(df[['class', 'requirement', 'SimilarRequirement']])"
      ]
    },
    {
      "cell_type": "code",
      "execution_count": null,
      "metadata": {
        "colab": {
          "base_uri": "https://localhost:8080/"
        },
        "id": "hc1wzSCT4SAg",
        "outputId": "59a63990-e172-4117-816b-10569fe3bd00"
      },
      "outputs": [
        {
          "data": {
            "text/plain": [
              "666"
            ]
          },
          "execution_count": 5,
          "metadata": {},
          "output_type": "execute_result"
        }
      ],
      "source": [
        "df['SimilarRequirement'].count()"
      ]
    },
    {
      "cell_type": "code",
      "execution_count": null,
      "metadata": {
        "colab": {
          "base_uri": "https://localhost:8080/"
        },
        "id": "BCKAtovu56wo",
        "outputId": "b60e3b87-61e2-46c3-bbf8-9c902d2ee330"
      },
      "outputs": [
        {
          "name": "stdout",
          "output_type": "stream",
          "text": [
            "    class                                    RequirementText  \\\n",
            "0      PE  the system shall refresh the display every  se...   \n",
            "1      LF  the application shall match the color of the s...   \n",
            "2      US   if projected  the data must be readable  on a...   \n",
            "3       A   the product shall be available during normal ...   \n",
            "4      US   if projected  the data must be understandable...   \n",
            "..    ...                                                ...   \n",
            "669     O   the system will integrate with multiple datab...   \n",
            "670     O   the system must be installable in any operati...   \n",
            "671    SE   the system will ensure that only company empl...   \n",
            "672    SE   only managers will be able to perform search ...   \n",
            "673    SE   the system will ensure that the databases dat...   \n",
            "\n",
            "                                    SimilarRequirement  \n",
            "0     the system will refresh the display every  se...  \n",
            "1     the application shall match the color schema ...  \n",
            "2                                                 None  \n",
            "3     the product will be available during normal b...  \n",
            "4     if projected the data must be comprehensible ...  \n",
            "..                                                 ...  \n",
            "669                                               None  \n",
            "670                                               None  \n",
            "671                                               None  \n",
            "672                                               None  \n",
            "673                                               None  \n",
            "\n",
            "[674 rows x 3 columns]\n"
          ]
        }
      ],
      "source": [
        "import pandas as pd\n",
        "import numpy as np\n",
        "import re\n",
        "import tensorflow as tf\n",
        "import tensorflow_hub as hub\n",
        "from sklearn.metrics.pairwise import cosine_similarity\n",
        "from sklearn.preprocessing import normalize\n",
        "\n",
        "embed = hub.load(\"https://tfhub.dev/google/universal-sentence-encoder/4\")\n",
        "\n",
        "def read_requirements_file(file_path):\n",
        "    data = []\n",
        "    with open(file_path, 'r') as file:\n",
        "        for line in file:\n",
        "            line = line.strip()\n",
        "            if not line:\n",
        "                continue\n",
        "            parts = line.split(':', 1)\n",
        "            if len(parts) == 2:\n",
        "                data.append(parts)\n",
        "    return data\n",
        "\n",
        "def process_requirement_text(text):\n",
        "    text = re.sub(r'[^a-zA-Z\\s]', '', text)\n",
        "    return text.lower()\n",
        "\n",
        "def get_use_embedding(text):\n",
        "    embedding = embed([text])\n",
        "    return embedding.numpy().flatten()\n",
        "\n",
        "data_nfr = read_requirements_file('/content/sample_data/nfr.txt')\n",
        "data_dup = read_requirements_file('/content/sample_data/nfr dup.txt')\n",
        "\n",
        "df_nfr = pd.DataFrame(data_nfr, columns=[\"class\", \"requirement\"])\n",
        "df_dup = pd.DataFrame(data_dup, columns=[\"class\", \"requirement\"])\n",
        "\n",
        "df = pd.concat([df_nfr, df_dup], ignore_index=True)\n",
        "\n",
        "df['RequirementText'] = df['requirement'].apply(process_requirement_text)\n",
        "df['USEEmbedding'] = df['RequirementText'].apply(get_use_embedding)\n",
        "\n",
        "embedding_matrix = np.array(list(df['USEEmbedding']))\n",
        "normalized_embeddings = normalize(embedding_matrix)\n",
        "\n",
        "df['USEEmbedding'] = list(normalized_embeddings)\n",
        "\n",
        "similarity_threshold = 0.9\n",
        "df['SimilarRequirement'] = None\n",
        "\n",
        "for i in range(len(df)):\n",
        "    similar_reqs = []\n",
        "    for j in range(i + 1, len(df)):\n",
        "        similarity = cosine_similarity([df['USEEmbedding'][i]], [df['USEEmbedding'][j]])[0][0]\n",
        "        if similarity > similarity_threshold:\n",
        "            similar_reqs.append(f\"{df['RequirementText'][j]} ({j})\")\n",
        "    if similar_reqs:\n",
        "        df.at[i, 'SimilarRequirement'] = ', '.join(similar_reqs)\n",
        "\n",
        "print(df[['class', 'RequirementText', 'SimilarRequirement']])"
      ]
    },
    {
      "cell_type": "code",
      "execution_count": null,
      "metadata": {
        "colab": {
          "base_uri": "https://localhost:8080/"
        },
        "id": "94iBa_1J6ERx",
        "outputId": "5ab814ef-df4b-45fd-b821-98c2b05d1f66"
      },
      "outputs": [
        {
          "data": {
            "text/plain": [
              "32"
            ]
          },
          "execution_count": 11,
          "metadata": {},
          "output_type": "execute_result"
        }
      ],
      "source": [
        "df['SimilarRequirement'].count()"
      ]
    },
    {
      "cell_type": "code",
      "execution_count": null,
      "metadata": {
        "colab": {
          "base_uri": "https://localhost:8080/",
          "height": 973
        },
        "id": "WQ97k8g33N5I",
        "outputId": "2daf34ea-94e2-418e-d750-a0a1d98221b1"
      },
      "outputs": [
        {
          "data": {
            "image/png": "[encoded data removed]",
            "text/plain": [
              "<Figure size 1000x800 with 1 Axes>"
            ]
          },
          "metadata": {},
          "output_type": "display_data"
        },
        {
          "name": "stdout",
          "output_type": "stream",
          "text": [
            "    class                                    RequirementText  Cluster\n",
            "0      PE          system shall refresh display every second        2\n",
            "1      LF  application shall match color schema set forth...        5\n",
            "2      US  projected data must readable x projection scre...        3\n",
            "3       A  product shall available normal business hour l...        1\n",
            "4      US  projected data must understandable x projectio...        5\n",
            "..    ...                                                ...      ...\n",
            "669     O  system integrate multiple database management ...       10\n",
            "670     O  system must installable operating environment ...        1\n",
            "671    SE  system ensure company employee approved extern...        4\n",
            "672    SE  manager able perform search query reservation ...        3\n",
            "673    SE  system ensure database data corresponds exactl...        8\n",
            "\n",
            "[674 rows x 3 columns]\n"
          ]
        }
      ],
      "source": [
        "import pandas as pd\n",
        "from gensim.models import Word2Vec\n",
        "from sklearn.cluster import KMeans\n",
        "from sklearn.decomposition import PCA\n",
        "import matplotlib.pyplot as plt\n",
        "\n",
        "sentences = df['RequirementText'].apply(lambda x: x.split()).tolist()\n",
        "\n",
        "word2vec_model = Word2Vec(sentences, vector_size=100, window=5, min_count=1, workers=4)\n",
        "\n",
        "def document_vector(doc, model):\n",
        "    words = [word for word in doc if word in model.wv]\n",
        "    if len(words) >= 1:\n",
        "        return model.wv[words].mean(axis=0)\n",
        "    else:\n",
        "        return np.zeros(model.vector_size)\n",
        "\n",
        "df['DocVector'] = df['RequirementText'].apply(lambda x: document_vector(x.split(), word2vec_model))\n",
        "\n",
        "num_clusters = 12\n",
        "kmeans = KMeans(n_clusters=num_clusters, random_state=42)\n",
        "df['Cluster'] = kmeans.fit_predict(list(df['DocVector']))\n",
        "\n",
        "pca = PCA(n_components=2)\n",
        "pca_result = pca.fit_transform(list(df['DocVector']))\n",
        "\n",
        "df['PCA1'] = pca_result[:, 0]\n",
        "df['PCA2'] = pca_result[:, 1]\n",
        "\n",
        "plt.figure(figsize=(10, 8))\n",
        "for cluster in range(num_clusters):\n",
        "    cluster_points = df[df['Cluster'] == cluster]\n",
        "    plt.scatter(cluster_points['PCA1'], cluster_points['PCA2'], label=f'Cluster {cluster}')\n",
        "plt.legend()\n",
        "plt.xlabel('PCA1')\n",
        "plt.ylabel('PCA2')\n",
        "plt.title('Document Clusters')\n",
        "plt.show()\n",
        "\n",
        "print(df[['class', 'RequirementText', 'Cluster']])"
      ]
    },
    {
      "cell_type": "code",
      "execution_count": null,
      "metadata": {
        "colab": {
          "base_uri": "https://localhost:8080/"
        },
        "id": "P6eGW1HC1ofD",
        "outputId": "cd4fad87-c5c1-4173-d624-22fad10bf493"
      },
      "outputs": [
        {
          "name": "stdout",
          "output_type": "stream",
          "text": [
            "    class                                    RequirementText  \\\n",
            "0      PE          system shall refresh display every second   \n",
            "1      LF  application shall match color schema set forth...   \n",
            "2      US  projected data must readable x projection scre...   \n",
            "3       A  product shall available normal business hour l...   \n",
            "4      US  projected data must understandable x projectio...   \n",
            "..    ...                                                ...   \n",
            "669     O  system integrate multiple database management ...   \n",
            "670     O  system must installable operating environment ...   \n",
            "671    SE  system ensure company employee approved extern...   \n",
            "672    SE  manager able perform search query reservation ...   \n",
            "673    SE  system ensure database data corresponds exactl...   \n",
            "\n",
            "                                    SimilarRequirement  \n",
            "0        system refresh display every second (ID: 556)  \n",
            "1    application shall match color schema set forth...  \n",
            "2    projected data must understandable x projectio...  \n",
            "3    product available normal business hour ensurin...  \n",
            "4    projected data must legible x projection scree...  \n",
            "..                                                 ...  \n",
            "669                                               None  \n",
            "670                                               None  \n",
            "671                                               None  \n",
            "672                                               None  \n",
            "673                                               None  \n",
            "\n",
            "[674 rows x 3 columns]\n"
          ]
        }
      ],
      "source": [
        "import pandas as pd\n",
        "import re\n",
        "from nltk.corpus import stopwords\n",
        "from nltk.stem import WordNetLemmatizer\n",
        "from sentence_transformers import SentenceTransformer, util\n",
        "\n",
        "lemmatizer = WordNetLemmatizer()\n",
        "english_stopwords = set(stopwords.words('english'))\n",
        "\n",
        "def process_requirement_text(text):\n",
        "    review = re.sub('[^a-zA-Z]', ' ', text)\n",
        "    review = review.lower().split()\n",
        "    review = [\n",
        "        lemmatizer.lemmatize(word) if not word.isdigit() else word\n",
        "        for word in review\n",
        "        if word not in english_stopwords\n",
        "    ]\n",
        "    return ' '.join(review)\n",
        "\n",
        "def read_requirements_file(file_path):\n",
        "    data = []\n",
        "    with open(file_path, 'r') as file:\n",
        "        for line in file:\n",
        "            line = line.strip()\n",
        "            if not line:\n",
        "                continue\n",
        "            parts = line.split(':', 1)\n",
        "            if len(parts) == 2:\n",
        "                data.append(parts)\n",
        "            else:\n",
        "                print(f\"Skipping malformed line: {line}\")\n",
        "    return data\n",
        "\n",
        "data_nfr = read_requirements_file('/content/sample_data/nfr.txt')\n",
        "data_dup = read_requirements_file('/content/sample_data/nfr dup.txt')\n",
        "\n",
        "df_nfr = pd.DataFrame(data_nfr, columns=[\"class\", \"requirement\"])\n",
        "df_dup = pd.DataFrame(data_dup, columns=[\"class\", \"requirement\"])\n",
        "\n",
        "df = pd.concat([df_nfr, df_dup], ignore_index=True)\n",
        "\n",
        "df['RequirementText'] = df['requirement'].apply(process_requirement_text)\n",
        "\n",
        "model = SentenceTransformer('sentence-transformers/all-MiniLM-L6-v2')\n",
        "\n",
        "df['BERTEmbedding'] = list(model.encode(df['RequirementText'].tolist(), convert_to_tensor=False))\n",
        "\n",
        "similarity_threshold = 0.8\n",
        "df['SimilarRequirement'] = None\n",
        "\n",
        "for i in range(len(df)):\n",
        "    similar_reqs = []\n",
        "    for j in range(i + 1, len(df)):\n",
        "        sim_score = util.cos_sim(df['BERTEmbedding'][i], df['BERTEmbedding'][j]).item()\n",
        "        if sim_score > similarity_threshold:\n",
        "            similar_reqs.append(f\"{df['RequirementText'][j]} (ID: {j})\")\n",
        "    if similar_reqs:\n",
        "        df.at[i, 'SimilarRequirement'] = ', '.join(similar_reqs)\n",
        "\n",
        "print(df[['class', 'RequirementText', 'SimilarRequirement']])"
      ]
    },
    {
      "cell_type": "code",
      "execution_count": null,
      "metadata": {
        "colab": {
          "base_uri": "https://localhost:8080/"
        },
        "id": "PfS9CozZYemy",
        "outputId": "07259441-dff9-4a68-df0c-fea31eb11582"
      },
      "outputs": [
        {
          "data": {
            "text/plain": [
              "169"
            ]
          },
          "execution_count": 3,
          "metadata": {},
          "output_type": "execute_result"
        }
      ],
      "source": [
        "df['SimilarRequirement'].count()"
      ]
    }
  ],
  "metadata": {
    "colab": {
      "provenance": []
    },
    "kernelspec": {
      "display_name": "Python 3",
      "name": "python3"
    },
    "language_info": {
      "codemirror_mode": {
        "name": "ipython",
        "version": 3
      },
      "file_extension": ".py",
      "mimetype": "text/x-python",
      "name": "python",
      "nbconvert_exporter": "python",
      "pygments_lexer": "ipython3",
      "version": "3.12.1"
    }
  },
  "nbformat": 4,
  "nbformat_minor": 0
}
